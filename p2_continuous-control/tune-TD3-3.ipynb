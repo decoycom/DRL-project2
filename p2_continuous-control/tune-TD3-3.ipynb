{
 "cells": [
  {
   "cell_type": "code",
   "execution_count": 1,
   "id": "46a96e48-6180-481c-9680-ab0d56c2051d",
   "metadata": {},
   "outputs": [],
   "source": [
    "from unityagents import UnityEnvironment\n",
    "# from mlagents_envs.environment import UnityEnvironment\n",
    "import numpy as np\n",
    "import pandas as pd\n",
    "import torch\n",
    "import matplotlib.pyplot as plt\n",
    "%matplotlib inline"
   ]
  },
  {
   "cell_type": "code",
   "execution_count": 2,
   "id": "63d6207a-be20-4f75-8dc3-2c98d0411e28",
   "metadata": {},
   "outputs": [
    {
     "name": "stderr",
     "output_type": "stream",
     "text": [
      "INFO:unityagents:\n",
      "'Academy' started successfully!\n",
      "Unity Academy name: Academy\n",
      "        Number of Brains: 1\n",
      "        Number of External Brains : 1\n",
      "        Lesson number : 0\n",
      "        Reset Parameters :\n",
      "\t\tgoal_speed -> 1.0\n",
      "\t\tgoal_size -> 5.0\n",
      "Unity brain name: ReacherBrain\n",
      "        Number of Visual Observations (per agent): 0\n",
      "        Vector Observation space type: continuous\n",
      "        Vector Observation space size (per agent): 33\n",
      "        Number of stacked Vector Observation: 1\n",
      "        Vector Action space type: continuous\n",
      "        Vector Action space size (per agent): 4\n",
      "        Vector Action descriptions: , , , \n"
     ]
    }
   ],
   "source": [
    "f = 'Reacher_Windows'\n",
    "# f = 'Reacher_Windows_20'\n",
    "# f = 'Reacher_Linux'\n",
    "# f = 'Reacher_Linux_NoVis'\n",
    "# f = 'Reacher_Linux_20'\n",
    "# f = 'Reacher_Linux_NoVis_20'\n",
    "no_graphics = False\n",
    "env = UnityEnvironment(file_name='{}/Reacher'.format(f), seed=1,no_graphics=no_graphics, worker_id=8)"
   ]
  },
  {
   "cell_type": "code",
   "execution_count": 3,
   "id": "02ae7089-a3a4-4302-87ad-6c3cad1ddbde",
   "metadata": {},
   "outputs": [
    {
     "name": "stdout",
     "output_type": "stream",
     "text": [
      "Number of agents: 1\n",
      "Size of each action: 4\n",
      "There are 1 agents. Each observes a state with length: 33\n"
     ]
    }
   ],
   "source": [
    "# get the default brain\n",
    "brain_name = env.brain_names[0]\n",
    "brain = env.brains[brain_name]\n",
    "env_info = env.reset(train_mode=True)[brain_name]\n",
    "\n",
    "# number of agents\n",
    "num_agents = len(env_info.agents)\n",
    "print('Number of agents:', num_agents)\n",
    "\n",
    "# size of each action\n",
    "action_size = brain.vector_action_space_size\n",
    "print('Size of each action:', action_size)\n",
    "\n",
    "# examine the state space \n",
    "states = env_info.vector_observations\n",
    "state_size = states.shape[1]\n",
    "print('There are {} agents. Each observes a state with length: {}'.format(states.shape[0], state_size))"
   ]
  },
  {
   "cell_type": "markdown",
   "id": "06db24dc-e95d-46b5-b141-5e6f5d346101",
   "metadata": {},
   "source": [
    "## Runners"
   ]
  },
  {
   "cell_type": "code",
   "execution_count": 5,
   "id": "5cc1537f-8284-48b9-9ab6-c0fa5167fd1c",
   "metadata": {},
   "outputs": [],
   "source": [
    "import tools as ts\n",
    "from deep_rl import *\n",
    "\n",
    "\n",
    "first = [\n",
    "    # {'target_network_mix':0.001,'discount':0.7,'gradient_clip':10},\n",
    "    {\n",
    "     # 'fc1':400,'fc2':300,\n",
    "     # 'weight_decay':0.012,'weight_decay_act':0.0,\n",
    "     'actor_lr':1e-4,'critic_lr':1e-4,\n",
    "     # 'target_network_mix':0.000327,'discount':0.715992,'gradient_clip':3,\n",
    "     # 'td3_noise':0.2,'td3_noise_clip':0.5,'td3_delay':2,\n",
    "    }\n",
    "]\n",
    "\n",
    "space_cfg = [\n",
    "#        {'name' : 'fc1',             'type' : 'int', 'lb' : 300, 'ub' : 500, \"step\": 100},\n",
    "#        {'name' : 'fc2',             'type' : 'int', 'lb' : 200, 'ub' : 400, \"step\": 100},\n",
    "        #{'name' : 'fc3',             'type' : 'int', 'lb' : 100, 'ub' : 400, \"step\": 100},\n",
    "    \n",
    "        # {'name' : 'gradient_clip',       'type' : 'int', 'lb' : 1.0, 'ub' : 16.0},\n",
    "        # {'name' : 'discount',            'type' : 'num', 'lb' : 0.5, 'ub' : 1.0},\n",
    "        # {'name' : 'target_network_mix',  'type' : 'pow', 'lb' : 1e-6, 'ub' : 1e-2},\n",
    "    \n",
    "       {'name' : 'actor_lr',        'type' : 'pow', 'lb' : 1e-7, 'ub' : 1e-2},\n",
    "       {'name' : 'critic_lr',       'type' : 'pow', 'lb' : 1e-7, 'ub' : 1e-2},\n",
    "       # {'name' : 'weight_decay_act','type' : 'num', 'lb' : 0.0, 'ub' : 0.02},\n",
    "       # {'name' : 'weight_decay',    'type' : 'num', 'lb' : 0.0, 'ub' : 0.02},\n",
    "    \n",
    "       # {'name' : 'td3_noise',        'type' : 'num', 'lb' : 0.1, 'ub' : 0.4},\n",
    "       # {'name' : 'td3_noise_clip',   'type' : 'num', 'lb' : 0.4, 'ub' : 0.7},\n",
    "       # {'name' : 'td3_delay',        'type' : 'int', 'lb' : 1, 'ub' : 5},\n",
    "        ]"
   ]
  },
  {
   "cell_type": "code",
   "execution_count": 6,
   "id": "b63bbe25-8751-4be4-9687-b4028ecdf912",
   "metadata": {},
   "outputs": [
    {
     "name": "stdout",
     "output_type": "stream",
     "text": [
      "Start[0]\ta_Lr:0.00010000\tc_Lr:0.00010000\t\n",
      "Episode[0] 40\ta_Lr:0.00010000\tc_Lr:0.00010000\t a-Average Score: 0.59\n",
      "Episode[0] 80\ta_Lr:0.00010000\tc_Lr:0.00010000\t a-Average Score: 0.81\n",
      "Finished![0] 120\ta_Lr:0.00010000\tc_Lr:0.00010000\t a-Average Score: 0.75\n",
      "Start[1]\ta_Lr:0.00000010\tc_Lr:0.00000010\t\n",
      "Episode[1] 40\ta_Lr:0.00000010\tc_Lr:0.00000010\t a-Average Score: 0.07\n",
      "Episode[1] 80\ta_Lr:0.00000010\tc_Lr:0.00000010\t a-Average Score: 0.48\n",
      "Finished![1] 120\ta_Lr:0.00000010\tc_Lr:0.00000010\t a-Average Score: 0.40\n",
      "Start[2]\ta_Lr:0.00003162\tc_Lr:0.00003162\t\n",
      "Episode[2] 40\ta_Lr:0.00003162\tc_Lr:0.00003162\t a-Average Score: 0.50\n",
      "Episode[2] 80\ta_Lr:0.00003162\tc_Lr:0.00003162\t a-Average Score: 0.53\n",
      "Episode[2] 120\ta_Lr:0.00003162\tc_Lr:0.00003162\t a-Average Score: 0.55\n",
      "Finished![2] 160\ta_Lr:0.00003162\tc_Lr:0.00003162\t a-Average Score: 0.55\n",
      "Start[3]\ta_Lr:0.00010756\tc_Lr:0.00997006\t\n",
      "Episode[3] 40\ta_Lr:0.00010756\tc_Lr:0.00997006\t a-Average Score: 0.03\n",
      "Episode[3] 80\ta_Lr:0.00010756\tc_Lr:0.00997006\t a-Average Score: 0.06\n",
      "Episode[3] 120\ta_Lr:0.00010756\tc_Lr:0.00997006\t a-Average Score: 0.17\n",
      "Finished![3] 160\ta_Lr:0.00010756\tc_Lr:0.00997006\t a-Average Score: 0.15\n",
      "Start[4]\ta_Lr:0.00000022\tc_Lr:0.00014221\t\n",
      "Episode[4] 40\ta_Lr:0.00000022\tc_Lr:0.00014221\t a-Average Score: 0.04\n",
      "Finished![4] 80\ta_Lr:0.00000022\tc_Lr:0.00014221\t a-Average Score: 0.00\n",
      "Start[5]\ta_Lr:0.00999169\tc_Lr:0.00000010\t\n",
      "Episode[5] 40\ta_Lr:0.00999169\tc_Lr:0.00000010\t a-Average Score: 0.26\n",
      "Episode[5] 80\ta_Lr:0.00999169\tc_Lr:0.00000010\t a-Average Score: 0.27\n",
      "Episode[5] 120\ta_Lr:0.00999169\tc_Lr:0.00000010\t a-Average Score: 0.29\n",
      "Episode[5] 160\ta_Lr:0.00999169\tc_Lr:0.00000010\t a-Average Score: 0.34\n",
      "Finished![5] 200\ta_Lr:0.00999169\tc_Lr:0.00000010\t a-Average Score: 0.28\n",
      "Start[6]\ta_Lr:0.00014356\tc_Lr:0.00011400\t\n",
      "Episode[6] 40\ta_Lr:0.00014356\tc_Lr:0.00011400\t a-Average Score: 0.31\n",
      "Finished![6] 80\ta_Lr:0.00014356\tc_Lr:0.00011400\t a-Average Score: 0.31\n",
      "Start[7]\ta_Lr:0.00074345\tc_Lr:0.00009987\t\n",
      "Episode[7] 40\ta_Lr:0.00074345\tc_Lr:0.00009987\t a-Average Score: 0.05\n",
      "Finished![7] 80\ta_Lr:0.00074345\tc_Lr:0.00009987\t a-Average Score: 0.01\n",
      "Start[8]\ta_Lr:0.00009973\tc_Lr:0.00008441\t\n",
      "Episode[8] 40\ta_Lr:0.00009973\tc_Lr:0.00008441\t a-Average Score: 0.43\n",
      "Episode[8] 80\ta_Lr:0.00009973\tc_Lr:0.00008441\t a-Average Score: 0.55\n",
      "Episode[8] 120\ta_Lr:0.00009973\tc_Lr:0.00008441\t a-Average Score: 0.60\n",
      "Finished![8] 160\ta_Lr:0.00009973\tc_Lr:0.00008441\t a-Average Score: 0.55\n",
      "Start[9]\ta_Lr:0.00009986\tc_Lr:0.00012814\t\n",
      "Episode[9] 40\ta_Lr:0.00009986\tc_Lr:0.00012814\t a-Average Score: 0.33\n",
      "Episode[9] 80\ta_Lr:0.00009986\tc_Lr:0.00012814\t a-Average Score: 0.56\n",
      "Finished![9] 120\ta_Lr:0.00009986\tc_Lr:0.00012814\t a-Average Score: 0.53\n",
      "Start[10]\ta_Lr:0.00010000\tc_Lr:0.00009980\t\n",
      "Episode[10] 40\ta_Lr:0.00010000\tc_Lr:0.00009980\t a-Average Score: 0.47\n",
      "Episode[10] 80\ta_Lr:0.00010000\tc_Lr:0.00009980\t a-Average Score: 0.59\n",
      "Episode[10] 120\ta_Lr:0.00010000\tc_Lr:0.00009980\t a-Average Score: 0.63\n",
      "Finished![10] 160\ta_Lr:0.00010000\tc_Lr:0.00009980\t a-Average Score: 0.62\n",
      "Start[11]\ta_Lr:0.00010000\tc_Lr:0.00010068\t\n",
      "Episode[11] 40\ta_Lr:0.00010000\tc_Lr:0.00010068\t a-Average Score: 0.78\n",
      "Episode[11] 80\ta_Lr:0.00010000\tc_Lr:0.00010068\t a-Average Score: 0.93\n",
      "Finished![11] 120\ta_Lr:0.00010000\tc_Lr:0.00010068\t a-Average Score: 0.82\n",
      "Start[12]\ta_Lr:0.00001845\tc_Lr:0.00000571\t\n",
      "Episode[12] 40\ta_Lr:0.00001845\tc_Lr:0.00000571\t a-Average Score: 0.46\n",
      "Episode[12] 80\ta_Lr:0.00001845\tc_Lr:0.00000571\t a-Average Score: 0.66\n",
      "Finished![12] 120\ta_Lr:0.00001845\tc_Lr:0.00000571\t a-Average Score: 0.53\n",
      "Start[13]\ta_Lr:0.00010000\tc_Lr:0.00010098\t\n",
      "Episode[13] 40\ta_Lr:0.00010000\tc_Lr:0.00010098\t a-Average Score: 0.38\n",
      "Episode[13] 80\ta_Lr:0.00010000\tc_Lr:0.00010098\t a-Average Score: 0.64\n",
      "Episode[13] 120\ta_Lr:0.00010000\tc_Lr:0.00010098\t a-Average Score: 0.67\n",
      "Episode[13] 160\ta_Lr:0.00010000\tc_Lr:0.00010098\t a-Average Score: 0.70\n",
      "Finished![13] 200\ta_Lr:0.00010000\tc_Lr:0.00010098\t a-Average Score: 0.62\n",
      "Start[14]\ta_Lr:0.00000011\tc_Lr:0.00000012\t\n",
      "Episode[14] 40\ta_Lr:0.00000011\tc_Lr:0.00000012\t a-Average Score: 0.09\n",
      "Episode[14] 80\ta_Lr:0.00000011\tc_Lr:0.00000012\t a-Average Score: 0.40\n",
      "Episode[14] 120\ta_Lr:0.00000011\tc_Lr:0.00000012\t a-Average Score: 0.67\n",
      "Finished![14] 160\ta_Lr:0.00000011\tc_Lr:0.00000012\t a-Average Score: 0.06\n",
      "Start[15]\ta_Lr:0.00010036\tc_Lr:0.00010305\t\n",
      "Episode[15] 40\ta_Lr:0.00010036\tc_Lr:0.00010305\t a-Average Score: 0.59\n",
      "Episode[15] 80\ta_Lr:0.00010036\tc_Lr:0.00010305\t a-Average Score: 0.85\n",
      "Episode[15] 120\ta_Lr:0.00010036\tc_Lr:0.00010305\t a-Average Score: 0.87\n",
      "Episode[15] 160\ta_Lr:0.00010036\tc_Lr:0.00010305\t a-Average Score: 0.92\n",
      "Finished![15] 200\ta_Lr:0.00010036\tc_Lr:0.00010305\t a-Average Score: 0.86\n",
      "Iter 15, best metric: 0.8635Best:{'actor_lr': 0.00010036220593056543, 'critic_lr': 0.00010305446323687427}\n"
     ]
    }
   ],
   "source": [
    "config = ts.initConf_td3(state_size,action_size,brain_name,env)\n",
    "config.update_fields = [\n",
    "    #'fc1','fc2',\n",
    "    # 'weight_decay','weight_decay_act',\n",
    "    'actor_lr','critic_lr',\n",
    "    # 'discount','target_network_mix','gradient_clip',\n",
    "    # 'td3_noise','td3_noise_clip','td3_delay',\n",
    "]\n",
    "# N:0.360176\tN_Clip:0.667340\tDelay:3\n",
    "# N:0.341247\tN_Clip:0.609734\tDelay:3\n",
    "config.fc1 = 400\n",
    "config.fc2 = 300\n",
    "# config.fc3 = 193\n",
    "config.weight_decay_act = 0.0\n",
    "config.weight_decay = 0.012\n",
    "config.actor_lr = 1e-4\n",
    "config.critic_lr = 1e-4\n",
    "config.target_network_mix = 0.000327\n",
    "config.discount = 0.715992\n",
    "config.gradient_clip = 3\n",
    "config.td3_noise = 0.360176\n",
    "config.td3_noise_clip = 0.609734\n",
    "config.td3_delay = 3\n",
    "\n",
    "# config.act_clip = 9\n",
    "\n",
    "Config.DEVICE = torch.device('cpu')\n",
    "config.device = Config.DEVICE\n",
    "config.eval_episodes = 400\n",
    "config.scores_window = 40\n",
    "best,scores = ts.tune(config,space_cfg,max_iter = 16,first=first)\n",
    "print('Best:{}'.format(best) , flush = True)"
   ]
  },
  {
   "cell_type": "code",
   "execution_count": 7,
   "id": "add25895-2f92-4919-8aea-3a340415be42",
   "metadata": {},
   "outputs": [
    {
     "data": {
      "image/png": "[encoded data removed]",
      "text/plain": [
       "<Figure size 432x288 with 1 Axes>"
      ]
     },
     "metadata": {
      "needs_background": "light"
     },
     "output_type": "display_data"
    }
   ],
   "source": [
    "# plot the scores\n",
    "fig = plt.figure()\n",
    "ax = fig.add_subplot(111)\n",
    "plt.plot(np.arange(len(scores)), scores)\n",
    "plt.ylabel('Score')\n",
    "plt.xlabel('Episode')\n",
    "st = ''\n",
    "for k in config.update_fields:\n",
    "    st += '{}:{} '.format(k,best[k])\n",
    "plt.title(\"TD3 \\n{}\".format(st))\n",
    "plt.show()"
   ]
  },
  {
   "cell_type": "code",
   "execution_count": 8,
   "id": "88664a48-3064-401b-b19d-cd8f76daa488",
   "metadata": {},
   "outputs": [],
   "source": [
    "env.close()"
   ]
  }
 ],
 "metadata": {
  "kernelspec": {
   "display_name": "gym",
   "language": "python",
   "name": "gym"
  },
  "language_info": {
   "codemirror_mode": {
    "name": "ipython",
    "version": 3
   },
   "file_extension": ".py",
   "mimetype": "text/x-python",
   "name": "python",
   "nbconvert_exporter": "python",
   "pygments_lexer": "ipython3",
   "version": "3.6.13"
  }
 },
 "nbformat": 4,
 "nbformat_minor": 5
}
