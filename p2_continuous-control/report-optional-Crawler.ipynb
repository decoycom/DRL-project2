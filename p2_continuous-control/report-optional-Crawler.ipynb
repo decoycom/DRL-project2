{
 "cells": [
  {
   "cell_type": "markdown",
   "metadata": {},
   "source": [
    "# Continuous Control\n",
    "\n",
    "---\n",
    "\n",
    "Congratulations for completing the second project of the [Deep Reinforcement Learning Nanodegree](https://www.udacity.com/course/deep-reinforcement-learning-nanodegree--nd893) program!  In this notebook, you will learn how to control an agent in a more challenging environment, where the goal is to train a creature with four arms to walk forward.  **Note that this exercise is optional!**\n",
    "\n",
    "### 1. Start the Environment\n",
    "\n",
    "We begin by importing the necessary packages.  If the code cell below returns an error, please revisit the project instructions to double-check that you have installed [Unity ML-Agents](https://github.com/Unity-Technologies/ml-agents/blob/master/docs/Installation.md) and [NumPy](http://www.numpy.org/)."
   ]
  },
  {
   "cell_type": "code",
   "execution_count": 1,
   "metadata": {},
   "outputs": [],
   "source": [
    "from unityagents import UnityEnvironment\n",
    "import numpy as np\n",
    "import matplotlib.pyplot as plt\n",
    "%matplotlib inline"
   ]
  },
  {
   "cell_type": "markdown",
   "metadata": {
    "jupyter": {
     "source_hidden": true
    },
    "tags": []
   },
   "source": [
    "Next, we will start the environment!  **_Before running the code cell below_**, change the `file_name` parameter to match the location of the Unity environment that you downloaded.\n",
    "\n",
    "- **Mac**: `\"path/to/Crawler.app\"`\n",
    "- **Windows** (x86): `\"path/to/Crawler_Windows_x86/Crawler.exe\"`\n",
    "- **Windows** (x86_64): `\"path/to/Crawler_Windows_x86_64/Crawler.exe\"`\n",
    "- **Linux** (x86): `\"path/to/Crawler_Linux/Crawler.x86\"`\n",
    "- **Linux** (x86_64): `\"path/to/Crawler_Linux/Crawler.x86_64\"`\n",
    "- **Linux** (x86, headless): `\"path/to/Crawler_Linux_NoVis/Crawler.x86\"`\n",
    "- **Linux** (x86_64, headless): `\"path/to/Crawler_Linux_NoVis/Crawler.x86_64\"`\n",
    "\n",
    "For instance, if you are using a Mac, then you downloaded `Crawler.app`.  If this file is in the same folder as the notebook, then the line below should appear as follows:\n",
    "```\n",
    "env = UnityEnvironment(file_name=\"Crawler.app\")\n",
    "```"
   ]
  },
  {
   "cell_type": "code",
   "execution_count": 2,
   "metadata": {},
   "outputs": [
    {
     "name": "stderr",
     "output_type": "stream",
     "text": [
      "INFO:unityagents:\n",
      "'Academy' started successfully!\n",
      "Unity Academy name: Academy\n",
      "        Number of Brains: 1\n",
      "        Number of External Brains : 1\n",
      "        Lesson number : 0\n",
      "        Reset Parameters :\n",
      "\t\t\n",
      "Unity brain name: CrawlerBrain\n",
      "        Number of Visual Observations (per agent): 0\n",
      "        Vector Observation space type: continuous\n",
      "        Vector Observation space size (per agent): 129\n",
      "        Number of stacked Vector Observation: 1\n",
      "        Vector Action space type: continuous\n",
      "        Vector Action space size (per agent): 20\n",
      "        Vector Action descriptions: , , , , , , , , , , , , , , , , , , , \n"
     ]
    }
   ],
   "source": [
    "# no_graphics = False ,no_graphics=no_graphics\n",
    "env = UnityEnvironment(file_name='Crawler_Windows/Crawler', seed=1)"
   ]
  },
  {
   "cell_type": "markdown",
   "metadata": {
    "jupyter": {
     "source_hidden": true
    },
    "tags": []
   },
   "source": [
    "Environments contain **_brains_** which are responsible for deciding the actions of their associated agents. Here we check for the first brain available, and set it as the default brain we will be controlling from Python."
   ]
  },
  {
   "cell_type": "code",
   "execution_count": 3,
   "metadata": {},
   "outputs": [],
   "source": [
    "# get the default brain\n",
    "brain_name = env.brain_names[0]\n",
    "brain = env.brains[brain_name]"
   ]
  },
  {
   "cell_type": "markdown",
   "metadata": {
    "jupyter": {
     "source_hidden": true
    },
    "tags": []
   },
   "source": [
    "### 2. Examine the State and Action Spaces\n",
    "\n",
    "Run the code cell below to print some information about the environment."
   ]
  },
  {
   "cell_type": "code",
   "execution_count": 4,
   "metadata": {},
   "outputs": [
    {
     "name": "stdout",
     "output_type": "stream",
     "text": [
      "Number of agents: 12\n",
      "Size of each action: 20\n",
      "There are 12 agents. Each observes a state with length: 129\n",
      "The state for the first agent looks like: [ 0.00000000e+00  0.00000000e+00  0.00000000e+00  2.25000000e+00\n",
      "  1.00000000e+00  0.00000000e+00  1.78813934e-07  0.00000000e+00\n",
      "  1.00000000e+00  0.00000000e+00  0.00000000e+00  0.00000000e+00\n",
      "  0.00000000e+00  0.00000000e+00  0.00000000e+00  0.00000000e+00\n",
      "  0.00000000e+00  0.00000000e+00  0.00000000e+00  0.00000000e+00\n",
      "  0.00000000e+00  0.00000000e+00  0.00000000e+00  0.00000000e+00\n",
      "  6.06093168e-01 -1.42857209e-01 -6.06078804e-01  0.00000000e+00\n",
      "  0.00000000e+00  0.00000000e+00  0.00000000e+00  0.00000000e+00\n",
      "  0.00000000e+00  0.00000000e+00  0.00000000e+00  0.00000000e+00\n",
      "  0.00000000e+00  0.00000000e+00  1.33339906e+00 -1.42857209e-01\n",
      " -1.33341408e+00  0.00000000e+00  0.00000000e+00  0.00000000e+00\n",
      "  0.00000000e+00  0.00000000e+00  0.00000000e+00  0.00000000e+00\n",
      "  0.00000000e+00  0.00000000e+00  0.00000000e+00  0.00000000e+00\n",
      " -6.06093347e-01 -1.42857209e-01 -6.06078625e-01  0.00000000e+00\n",
      "  0.00000000e+00  0.00000000e+00  0.00000000e+00  0.00000000e+00\n",
      "  0.00000000e+00  0.00000000e+00  0.00000000e+00  0.00000000e+00\n",
      "  0.00000000e+00  0.00000000e+00 -1.33339953e+00 -1.42857209e-01\n",
      " -1.33341372e+00  0.00000000e+00  0.00000000e+00  0.00000000e+00\n",
      "  0.00000000e+00  0.00000000e+00  0.00000000e+00  0.00000000e+00\n",
      "  0.00000000e+00  0.00000000e+00  0.00000000e+00  0.00000000e+00\n",
      " -6.06093168e-01 -1.42857209e-01  6.06078804e-01  0.00000000e+00\n",
      "  0.00000000e+00  0.00000000e+00  0.00000000e+00  0.00000000e+00\n",
      "  0.00000000e+00  0.00000000e+00  0.00000000e+00  0.00000000e+00\n",
      "  0.00000000e+00  0.00000000e+00 -1.33339906e+00 -1.42857209e-01\n",
      "  1.33341408e+00  0.00000000e+00  0.00000000e+00  0.00000000e+00\n",
      "  0.00000000e+00  0.00000000e+00  0.00000000e+00  0.00000000e+00\n",
      "  0.00000000e+00  0.00000000e+00  0.00000000e+00  0.00000000e+00\n",
      "  6.06093347e-01 -1.42857209e-01  6.06078625e-01  0.00000000e+00\n",
      "  0.00000000e+00  0.00000000e+00  0.00000000e+00  0.00000000e+00\n",
      "  0.00000000e+00  0.00000000e+00  0.00000000e+00  0.00000000e+00\n",
      "  0.00000000e+00  0.00000000e+00  1.33339953e+00 -1.42857209e-01\n",
      "  1.33341372e+00  0.00000000e+00  0.00000000e+00  0.00000000e+00\n",
      "  0.00000000e+00]\n"
     ]
    }
   ],
   "source": [
    "# reset the environment\n",
    "env_info = env.reset(train_mode=True)[brain_name]\n",
    "\n",
    "# number of agents\n",
    "num_agents = len(env_info.agents)\n",
    "print('Number of agents:', num_agents)\n",
    "\n",
    "# size of each action\n",
    "action_size = brain.vector_action_space_size\n",
    "print('Size of each action:', action_size)\n",
    "\n",
    "# examine the state space \n",
    "states = env_info.vector_observations\n",
    "state_size = states.shape[1]\n",
    "print('There are {} agents. Each observes a state with length: {}'.format(states.shape[0], state_size))\n",
    "print('The state for the first agent looks like:', states[0])"
   ]
  },
  {
   "cell_type": "markdown",
   "metadata": {
    "jupyter": {
     "source_hidden": true
    },
    "tags": []
   },
   "source": [
    "### 3. Take Random Actions in the Environment\n",
    "\n",
    "In the next code cell, you will learn how to use the Python API to control the agent and receive feedback from the environment.\n",
    "\n",
    "Once this cell is executed, you will watch the agent's performance, if it selects an action at random with each time step.  A window should pop up that allows you to observe the agent, as it moves through the environment.  \n",
    "\n",
    "Of course, as part of the project, you'll have to change the code so that the agent is able to use its experience to gradually choose better actions when interacting with the environment!"
   ]
  },
  {
   "cell_type": "code",
   "execution_count": 5,
   "metadata": {
    "collapsed": true,
    "jupyter": {
     "outputs_hidden": true,
     "source_hidden": true
    },
    "tags": []
   },
   "outputs": [
    {
     "name": "stdout",
     "output_type": "stream",
     "text": [
      "Total score (averaged over agents) this episode: 0.18411521970604858\n"
     ]
    }
   ],
   "source": [
    "env_info = env.reset(train_mode=False)[brain_name]     # reset the environment    \n",
    "states = env_info.vector_observations                  # get the current state (for each agent)\n",
    "scores = np.zeros(num_agents)                          # initialize the score (for each agent)\n",
    "while True:\n",
    "    actions = np.random.randn(num_agents, action_size) # select an action (for each agent)\n",
    "    actions = np.clip(actions, -1, 1)                  # all actions between -1 and 1\n",
    "    env_info = env.step(actions)[brain_name]           # send all actions to tne environment\n",
    "    next_states = env_info.vector_observations         # get next state (for each agent)\n",
    "    rewards = env_info.rewards                         # get reward (for each agent)\n",
    "    dones = env_info.local_done                        # see if episode finished\n",
    "    scores += env_info.rewards                         # update the score (for each agent)\n",
    "    states = next_states                               # roll over states to next time step\n",
    "    if np.any(dones):                                  # exit loop if episode finished\n",
    "        break\n",
    "print('Total score (averaged over agents) this episode: {}'.format(np.mean(scores)))"
   ]
  },
  {
   "cell_type": "markdown",
   "metadata": {
    "jupyter": {
     "source_hidden": true
    },
    "tags": []
   },
   "source": [
    "When finished, you can close the environment."
   ]
  },
  {
   "cell_type": "code",
   "execution_count": 13,
   "metadata": {
    "jupyter": {
     "source_hidden": true
    },
    "tags": []
   },
   "outputs": [],
   "source": [
    "env.close()"
   ]
  },
  {
   "cell_type": "markdown",
   "metadata": {
    "jupyter": {
     "source_hidden": true
    },
    "tags": []
   },
   "source": [
    "### 4. It's Your Turn!\n",
    "\n",
    "Now it's your turn to train your own agent to solve the environment!  When training the environment, set `train_mode=True`, so that the line for resetting the environment looks like the following:\n",
    "```python\n",
    "env_info = env.reset(train_mode=True)[brain_name]\n",
    "```"
   ]
  },
  {
   "cell_type": "code",
   "execution_count": 9,
   "metadata": {},
   "outputs": [],
   "source": [
    "import tools as ts\n",
    "from deep_rl import *\n",
    "\n",
    "first = [\n",
    "    # 20R\n",
    "    {'fc1': 256, 'fc2': 205, 'rollout_length': 7, 'discount': 0.9947119412589186, 'gradient_clip': 7.472418002304095, 'lr': 0.00022666909111522057, 'gae_tau': 0.9287412697761878, 'entropy_weight': 0.00672935253193575, 'use_gae': True},\n",
    "    # 15R\n",
    "    {'fc1': 185, 'fc2': 199, 'rollout_length': 5, 'discount': 0.9837467081616941, 'gradient_clip': 7.265792962872858, 'lr': 0.000265417875224768, 'gae_tau': 0.9004619093865981, 'entropy_weight': 0.0020088281037626827, 'use_gae': True},\n",
    "    {'fc1': 154, 'fc2': 142, 'rollout_length': 9, 'discount': 0.991367640253254, 'gradient_clip': 6.8721069565090716, 'lr': 0.0003164667581039947, 'gae_tau': 0.9277088707415888, 'entropy_weight': 0.01441853539092824, 'use_gae': False},\n",
    "    \n",
    "    {'fc1':64,'fc2':64, 'rollout_length': 8, 'discount': 0.99790577, 'gradient_clip': 7.45, 'lr': 0.00013967,  'gae_tau': 0.80036001, 'entropy_weight': 0.02339833, 'use_gae': True},\n",
    "    {'fc1':128,'fc2':128, 'rollout_length': 9, 'discount': 0.972, 'gradient_clip': 6.8, 'lr': 0.0004,  'gae_tau': 0.899, 'entropy_weight': 0.010, 'use_gae': False},\n",
    "    \n",
    "]\n",
    "space_cfg = [\n",
    "        {'name' : 'fc1',             'type' : 'int', 'lb' : 64, 'ub' : 256, \"step\": 64},\n",
    "        {'name' : 'fc2',             'type' : 'int', 'lb' : 64, 'ub' : 256, \"step\": 64},\n",
    "        {'name' : 'rollout_length',  'type' : 'int', 'lb' : 4, 'ub' : 12},    \n",
    "        {'name' : 'discount',        'type' : 'num', 'lb' : 0.90, 'ub' : 0.995, 'step':0.01},\n",
    "        {'name' : 'gradient_clip',   'type' : 'num', 'lb' : 3.0, 'ub' : 7.5},\n",
    "        {'name' : 'lr',              'type' : 'pow', 'lb' : 0.00001, 'ub' : 0.007},\n",
    "        {'name' : 'gae_tau',         'type' : 'num', 'lb' : 0.80, 'ub' : 0.95},\n",
    "        {'name' : 'entropy_weight',  'type' : 'num', 'lb' : 0.0009, 'ub' : 0.03},\n",
    "        {'name' : 'use_gae',         'type' : 'bool'},\n",
    "    ]"
   ]
  },
  {
   "cell_type": "code",
   "execution_count": 10,
   "metadata": {},
   "outputs": [
    {
     "name": "stdout",
     "output_type": "stream",
     "text": [
      "Start[0]\tfc1:256\tfc2:205\trout_L:7\tlr:0.00022667\tG_tau:0.92874127\te_W:0.00672935\tG:0.99471194\tClip:7.47241800\tG_use:1\t\n",
      "Episode[0] 200\tfc1:256\tfc2:205\trout_L:7\tlr:0.00022667\tG_tau:0.92874127\te_W:0.00672935\tG:0.99471194\tClip:7.47241800\tG_use:1\t a-Average Score: 3.02\n",
      "Episode[0] 400\tfc1:256\tfc2:205\trout_L:7\tlr:0.00022667\tG_tau:0.92874127\te_W:0.00672935\tG:0.99471194\tClip:7.47241800\tG_use:1\t a-Average Score: 3.97\n",
      "Episode[0] 600\tfc1:256\tfc2:205\trout_L:7\tlr:0.00022667\tG_tau:0.92874127\te_W:0.00672935\tG:0.99471194\tClip:7.47241800\tG_use:1\t a-Average Score: 4.99\n",
      "Episode[0] 800\tfc1:256\tfc2:205\trout_L:7\tlr:0.00022667\tG_tau:0.92874127\te_W:0.00672935\tG:0.99471194\tClip:7.47241800\tG_use:1\t a-Average Score: 5.56\n",
      "Episode[0] 1000\tfc1:256\tfc2:205\trout_L:7\tlr:0.00022667\tG_tau:0.92874127\te_W:0.00672935\tG:0.99471194\tClip:7.47241800\tG_use:1\t a-Average Score: 10.31\n",
      "Episode[0] 1200\tfc1:256\tfc2:205\trout_L:7\tlr:0.00022667\tG_tau:0.92874127\te_W:0.00672935\tG:0.99471194\tClip:7.47241800\tG_use:1\t a-Average Score: 14.85\n",
      "Episode[0] 1400\tfc1:256\tfc2:205\trout_L:7\tlr:0.00022667\tG_tau:0.92874127\te_W:0.00672935\tG:0.99471194\tClip:7.47241800\tG_use:1\t a-Average Score: 25.00\n",
      "Episode[0] 1486\tfc1:256\tfc2:205\trout_L:7\tlr:0.00022667\tG_tau:0.92874127\te_W:0.00672935\tG:0.99471194\tClip:7.47241800\tG_use:1\t a-Average Score: 30.16\n",
      "Environment[0] solved in 1286 episodes!\tfc1:256\tfc2:205\trout_L:7\tlr:0.00022667\tG_tau:0.92874127\te_W:0.00672935\tG:0.99471194\tClip:7.47241800\tG_use:1\t Average Score: 30.16\n",
      "Iter 0, best metric: 30.1566Best:{'fc1': 256, 'fc2': 205, 'rollout_length': 7, 'discount': 0.9947119412589186, 'gradient_clip': 7.472418002304095, 'lr': 0.00022666909111522057, 'gae_tau': 0.9287412697761878, 'entropy_weight': 0.00672935253193575, 'use_gae': True}\n"
     ]
    }
   ],
   "source": [
    "select_device(-1)\n",
    "config = ts.a2c_feature(state_size,action_size,brain_name,env)\n",
    "\n",
    "config.save_margin = 30\n",
    "config.save_postfix = '_crawler'\n",
    "config.stop_regression = True\n",
    "config.perc_regression = 10\n",
    "config.num_workers = num_agents\n",
    "config.eval_episodes = 4000\n",
    "config.scores_window = 200\n",
    "best,scores = ts.tune(config,space_cfg,max_iter = 20,first=first)\n",
    "print('Best:{}'.format(best) , flush = True)"
   ]
  },
  {
   "cell_type": "code",
   "execution_count": 11,
   "metadata": {},
   "outputs": [
    {
     "data": {
      "image/png": "[encoded data removed]",
      "text/plain": [
       "<Figure size 432x288 with 1 Axes>"
      ]
     },
     "metadata": {
      "needs_background": "light"
     },
     "output_type": "display_data"
    }
   ],
   "source": [
    "# plot the scores\n",
    "fig = plt.figure()\n",
    "ax = fig.add_subplot(111)\n",
    "plt.plot(np.arange(len(scores)), scores)\n",
    "plt.ylabel('Score')\n",
    "plt.xlabel('Episode')\n",
    "st = ''\n",
    "for k in config.update_fields:\n",
    "    st += '{}:{} '.format(k,best[k]) \n",
    "plt.title(\"A2C \\n{}\".format(st))\n",
    "plt.show()"
   ]
  },
  {
   "cell_type": "code",
   "execution_count": 12,
   "metadata": {},
   "outputs": [
    {
     "data": {
      "text/plain": [
       "<All keys matched successfully>"
      ]
     },
     "execution_count": 12,
     "metadata": {},
     "output_type": "execute_result"
    }
   ],
   "source": [
    "# Load\n",
    "config = ts.a2c_feature(state_size,action_size,brain_name,env)\n",
    "config.fc1 = 256\n",
    "config.fc2 = 205\n",
    "agent = config.agent_fn(config)\n",
    "agent.network.load_state_dict(torch.load('checkpoint_0_crawler_30.pth'))"
   ]
  },
  {
   "cell_type": "code",
   "execution_count": 15,
   "metadata": {},
   "outputs": [
    {
     "name": "stdout",
     "output_type": "stream",
     "text": [
      "Total score (averaged over agents) this episode: 55.14668742873861\n"
     ]
    }
   ],
   "source": [
    "# Play\n",
    "env_info = env.reset(train_mode=False)[brain_name]     # reset the environment    \n",
    "states = env_info.vector_observations                  # get the current state (for each agent)\n",
    "scores = np.zeros(num_agents)                          # initialize the score (for each agent)\n",
    "while True:\n",
    "    prediction = agent.act(states)\n",
    "    actions = np.random.randn(num_agents, action_size) # select an action (for each agent)\n",
    "    actions = (prediction['action']).cpu().detach().numpy()\n",
    "    # actions = np.clip(actions, -1, 1)                  # all actions between -1 and 1\n",
    "    env_info = env.step(actions)[brain_name]           # send all actions to tne environment\n",
    "    next_states = env_info.vector_observations         # get next state (for each agent)\n",
    "    rewards = env_info.rewards                         # get reward (for each agent)\n",
    "    dones = env_info.local_done                        # see if episode finished\n",
    "    scores += env_info.rewards                         # update the score (for each agent)\n",
    "    states = next_states                               # roll over states to next time step\n",
    "    if np.any(dones):                                  # exit loop if episode finished\n",
    "        break\n",
    "print('Total score (averaged over agents) this episode: {}'.format(np.mean(scores)))"
   ]
  },
  {
   "cell_type": "code",
   "execution_count": 16,
   "metadata": {},
   "outputs": [
    {
     "data": {
      "image/png": "[encoded data removed]",
      "text/plain": [
       "<Figure size 432x288 with 1 Axes>"
      ]
     },
     "metadata": {
      "needs_background": "light"
     },
     "output_type": "display_data"
    }
   ],
   "source": [
    "# Plot\n",
    "fig = plt.figure()\n",
    "ax = fig.add_subplot(111)\n",
    "plt.plot(np.arange(len(scores)), scores)\n",
    "plt.ylabel('Score')\n",
    "plt.xlabel('Episode')\n",
    "st = ''\n",
    "plt.title(\"A2C \\n{}\".format(st))\n",
    "plt.show()"
   ]
  },
  {
   "cell_type": "code",
   "execution_count": 0,
   "metadata": {},
   "outputs": [],
   "source": [
    "env.close()"
   ]
  },
  {
   "cell_type": "markdown",
   "source": [
    "## Description\n",
    "\n",
    "### Learning Algorithm\n",
    "I use the A2C: Advantage Actor-Critic method\n",
    "\n",
    "the best Hyperparameters I could find:\n",
    "\n",
    "The agent definition is in the file `tools.py` in `a2c_feature` function\n",
    "\n",
    "the A2C agent core learning logic is in the `agent/A2C.py` file.\n",
    "\n",
    "## Future works to improve the performance of the agent\n",
    "- increase the Actor Critic network layers to more than 3\n",
    "- try other methods REINFORCE, TNPG, RWR, REPS, TRPO, CEM, CMA-ES\n",
    "\n"
   ],
   "metadata": {
    "collapsed": false
   }
  },
  {
   "cell_type": "code",
   "execution_count": null,
   "outputs": [],
   "source": [],
   "metadata": {
    "collapsed": false
   }
  }
 ],
 "metadata": {
  "kernelspec": {
   "display_name": "gym",
   "language": "python",
   "name": "gym"
  },
  "language_info": {
   "codemirror_mode": {
    "name": "ipython",
    "version": 3
   },
   "file_extension": ".py",
   "mimetype": "text/x-python",
   "name": "python",
   "nbconvert_exporter": "python",
   "pygments_lexer": "ipython3",
   "version": "3.6.13"
  }
 },
 "nbformat": 4,
 "nbformat_minor": 4
}
