{
 "cells": [
  {
   "cell_type": "code",
   "execution_count": 1,
   "id": "46a96e48-6180-481c-9680-ab0d56c2051d",
   "metadata": {},
   "outputs": [],
   "source": [
    "from unityagents import UnityEnvironment\n",
    "# from mlagents_envs.environment import UnityEnvironment\n",
    "import numpy as np\n",
    "import pandas as pd\n",
    "import torch\n",
    "import matplotlib.pyplot as plt\n",
    "%matplotlib inline"
   ]
  },
  {
   "cell_type": "code",
   "execution_count": 2,
   "id": "63d6207a-be20-4f75-8dc3-2c98d0411e28",
   "metadata": {},
   "outputs": [
    {
     "name": "stderr",
     "output_type": "stream",
     "text": [
      "INFO:unityagents:\n",
      "'Academy' started successfully!\n",
      "Unity Academy name: Academy\n",
      "        Number of Brains: 1\n",
      "        Number of External Brains : 1\n",
      "        Lesson number : 0\n",
      "        Reset Parameters :\n",
      "\t\tgoal_speed -> 1.0\n",
      "\t\tgoal_size -> 5.0\n",
      "Unity brain name: ReacherBrain\n",
      "        Number of Visual Observations (per agent): 0\n",
      "        Vector Observation space type: continuous\n",
      "        Vector Observation space size (per agent): 33\n",
      "        Number of stacked Vector Observation: 1\n",
      "        Vector Action space type: continuous\n",
      "        Vector Action space size (per agent): 4\n",
      "        Vector Action descriptions: , , , \n"
     ]
    }
   ],
   "source": [
    "f = 'Reacher_Windows'\n",
    "# f = 'Reacher_Windows_20'\n",
    "# f = 'Reacher_Linux'\n",
    "# f = 'Reacher_Linux_NoVis'\n",
    "# f = 'Reacher_Linux_20'\n",
    "# f = 'Reacher_Linux_NoVis_20'\n",
    "no_graphics = False\n",
    "env = UnityEnvironment(file_name='{}/Reacher'.format(f), seed=1,no_graphics=no_graphics, worker_id=5)"
   ]
  },
  {
   "cell_type": "code",
   "execution_count": 3,
   "id": "02ae7089-a3a4-4302-87ad-6c3cad1ddbde",
   "metadata": {},
   "outputs": [
    {
     "name": "stdout",
     "output_type": "stream",
     "text": [
      "Number of agents: 1\n",
      "Size of each action: 4\n",
      "There are 1 agents. Each observes a state with length: 33\n"
     ]
    }
   ],
   "source": [
    "# get the default brain\n",
    "brain_name = env.brain_names[0]\n",
    "brain = env.brains[brain_name]\n",
    "env_info = env.reset(train_mode=True)[brain_name]\n",
    "\n",
    "# number of agents\n",
    "num_agents = len(env_info.agents)\n",
    "print('Number of agents:', num_agents)\n",
    "\n",
    "# size of each action\n",
    "action_size = brain.vector_action_space_size\n",
    "print('Size of each action:', action_size)\n",
    "\n",
    "# examine the state space \n",
    "states = env_info.vector_observations\n",
    "state_size = states.shape[1]\n",
    "print('There are {} agents. Each observes a state with length: {}'.format(states.shape[0], state_size))"
   ]
  },
  {
   "cell_type": "markdown",
   "id": "06db24dc-e95d-46b5-b141-5e6f5d346101",
   "metadata": {},
   "source": [
    "## Runners"
   ]
  },
  {
   "cell_type": "code",
   "execution_count": 10,
   "id": "5cc1537f-8284-48b9-9ab6-c0fa5167fd1c",
   "metadata": {},
   "outputs": [],
   "source": [
    "import tools as ts\n",
    "from deep_rl import *\n",
    "\n",
    "# {'td3_noise': 0.34124696474479593, 'td3_noise_clip': 0.6097341595074779, 'td3_delay': 3,'fc1':500,'fc2':400,'fc3':300,},\n",
    "first = [\n",
    "    # {'target_network_mix':0.001,'discount':0.7,'gradient_clip':10},\n",
    "    {\n",
    "     # 'fc1':400,'fc2':300,\n",
    "     'weight_decay':0.012,'weight_decay_act':0.0,\n",
    "     # 'actor_lr':1e-4,'critic_lr':1e-4,\n",
    "     # 'target_network_mix':0.000327,'discount':0.715992,'gradient_clip':3,\n",
    "     # 'td3_noise':0.2,'td3_noise_clip':0.5,'td3_delay':2,\n",
    "    }\n",
    "]\n",
    "\n",
    "space_cfg = [\n",
    "#        {'name' : 'fc1',             'type' : 'int', 'lb' : 300, 'ub' : 500, \"step\": 100},\n",
    "#        {'name' : 'fc2',             'type' : 'int', 'lb' : 200, 'ub' : 400, \"step\": 100},\n",
    "        #{'name' : 'fc3',             'type' : 'int', 'lb' : 100, 'ub' : 400, \"step\": 100},\n",
    "    \n",
    "        # {'name' : 'gradient_clip',       'type' : 'int', 'lb' : 1.0, 'ub' : 16.0},\n",
    "        # {'name' : 'discount',            'type' : 'num', 'lb' : 0.5, 'ub' : 1.0},\n",
    "        # {'name' : 'target_network_mix',  'type' : 'pow', 'lb' : 1e-6, 'ub' : 1e-2},\n",
    "    \n",
    "#        {'name' : 'actor_lr',        'type' : 'pow', 'lb' : 1e-7, 'ub' : 1e-2},\n",
    "#        {'name' : 'critic_lr',       'type' : 'pow', 'lb' : 1e-7, 'ub' : 1e-2},\n",
    "       {'name' : 'weight_decay_act','type' : 'num', 'lb' : 0.0, 'ub' : 0.015},\n",
    "       {'name' : 'weight_decay',    'type' : 'num', 'lb' : 0.0, 'ub' : 0.015},\n",
    "    \n",
    "       # {'name' : 'td3_noise',        'type' : 'num', 'lb' : 0.1, 'ub' : 0.4},\n",
    "       # {'name' : 'td3_noise_clip',   'type' : 'num', 'lb' : 0.4, 'ub' : 0.7},\n",
    "       # {'name' : 'td3_delay',        'type' : 'int', 'lb' : 1, 'ub' : 5},\n",
    "        ]"
   ]
  },
  {
   "cell_type": "code",
   "execution_count": 12,
   "id": "b63bbe25-8751-4be4-9687-b4028ecdf912",
   "metadata": {},
   "outputs": [
    {
     "name": "stdout",
     "output_type": "stream",
     "text": [
      "Start[0]\tc_W:0.01200000\ta_W:0.0\t\n",
      "Episode[0] 40\tc_W:0.01200000\ta_W:0.0\t a-Average Score: 0.94\n",
      "Finished![0] 80\tc_W:0.01200000\ta_W:0.0\t a-Average Score: 0.93\n",
      "Start[1]\tc_W:0.0\ta_W:0.0\t15\n",
      "Episode[1] 40\tc_W:0.0\ta_W:0.0\t a-Average Score: 0.40\n",
      "Episode[1] 80\tc_W:0.0\ta_W:0.0\t a-Average Score: 0.94\n",
      "Finished![1] 120\tc_W:0.0\ta_W:0.0\t a-Average Score: 0.60\n",
      "Start[2]\tc_W:0.00750000\ta_W:0.00750000\t\n",
      "Episode[2] 40\tc_W:0.00750000\ta_W:0.00750000\t a-Average Score: 0.04\n",
      "Finished![2] 80\tc_W:0.00750000\ta_W:0.00750000\t a-Average Score: 0.00\n",
      "Start[3]\tc_W:0.01499882\ta_W:0.00000011\t\n",
      "Episode[3] 40\tc_W:0.01499882\ta_W:0.00000011\t a-Average Score: 0.17\n",
      "Finished![3] 80\tc_W:0.01499882\ta_W:0.00000011\t a-Average Score: 0.00\n",
      "Start[4]\tc_W:0.01198818\ta_W:0.00179068\t\n",
      "Episode[4] 40\tc_W:0.01198818\ta_W:0.00179068\t a-Average Score: 0.02\n",
      "Finished![4] 80\tc_W:0.01198818\ta_W:0.00179068\t a-Average Score: 0.00\n",
      "Start[5]\tc_W:0.01321843\ta_W:0.00088282\t\n",
      "Episode[5] 40\tc_W:0.01321843\ta_W:0.00088282\t a-Average Score: 0.04\n",
      "Finished![5] 80\tc_W:0.01321843\ta_W:0.00088282\t a-Average Score: 0.00\n",
      "Start[6]\tc_W:0.00539390\ta_W:0.00871690\t\n",
      "Episode[6] 40\tc_W:0.00539390\ta_W:0.00871690\t a-Average Score: 0.02\n",
      "Finished![6] 80\tc_W:0.00539390\ta_W:0.00871690\t a-Average Score: 0.00\n",
      "Start[7]\tc_W:0.01182735\ta_W:0.00000353\t\n",
      "Episode[7] 40\tc_W:0.01182735\ta_W:0.00000353\t a-Average Score: 0.07\n",
      "Finished![7] 80\tc_W:0.01182735\ta_W:0.00000353\t a-Average Score: 0.00\n",
      "Start[8]\tc_W:0.01144760\ta_W:0.00000001\t\n",
      "Episode[8] 40\tc_W:0.01144760\ta_W:0.00000001\t a-Average Score: 0.48\n",
      "Finished![8] 80\tc_W:0.01144760\ta_W:0.00000001\t a-Average Score: 0.00\n",
      "Start[9]\tc_W:0.00025592\ta_W:0.00000000\t\n",
      "Episode[9] 40\tc_W:0.00025592\ta_W:0.00000000\t a-Average Score: 0.27\n",
      "Episode[9] 80\tc_W:0.00025592\ta_W:0.00000000\t a-Average Score: 0.30\n",
      "Finished![9] 120\tc_W:0.00025592\ta_W:0.00000000\t a-Average Score: 0.27\n",
      "Start[10]\tc_W:0.01200629\ta_W:0.00000103\t\n",
      "Episode[10] 40\tc_W:0.01200629\ta_W:0.00000103\t a-Average Score: 0.03\n",
      "Finished![10] 80\tc_W:0.01200629\ta_W:0.00000103\t a-Average Score: 0.00\n",
      "Start[11]\tc_W:0.00057385\ta_W:0.0\t\n",
      "Episode[11] 40\tc_W:0.00057385\ta_W:0.0\t a-Average Score: 0.02\n",
      "Finished![11] 80\tc_W:0.00057385\ta_W:0.0\t a-Average Score: 0.00\n",
      "Start[12]\tc_W:0.00001428\ta_W:0.00000003\t\n",
      "Episode[12] 40\tc_W:0.00001428\ta_W:0.00000003\t a-Average Score: 0.26\n",
      "Finished![12] 80\tc_W:0.00001428\ta_W:0.00000003\t a-Average Score: 0.00\n",
      "Start[13]\tc_W:0.00197276\ta_W:0.01002011\t\n",
      "Episode[13] 40\tc_W:0.00197276\ta_W:0.01002011\t a-Average Score: 0.02\n",
      "Finished![13] 80\tc_W:0.00197276\ta_W:0.01002011\t a-Average Score: 0.01\n",
      "Start[14]\tc_W:0.01200000\ta_W:0.0\t\n",
      "Episode[14] 40\tc_W:0.01200000\ta_W:0.0\t a-Average Score: 0.03\n",
      "Finished![14] 80\tc_W:0.01200000\ta_W:0.0\t a-Average Score: 0.00\n",
      "Start[15]\tc_W:0.00983724\ta_W:0.01104922\t\n",
      "Episode[15] 40\tc_W:0.00983724\ta_W:0.01104922\t a-Average Score: 0.02\n",
      "Finished![15] 80\tc_W:0.00983724\ta_W:0.01104922\t a-Average Score: 0.00\n",
      "Iter 15, best metric: 0.9315Best:{'weight_decay_act': 0.0, 'weight_decay': 0.012}\n"
     ]
    }
   ],
   "source": [
    "config = ts.initConf_td3(state_size,action_size,brain_name,env)\n",
    "config.update_fields = [\n",
    "    #'fc1','fc2',\n",
    "    'weight_decay','weight_decay_act',\n",
    "    #'actor_lr','critic_lr',\n",
    "    # 'discount','target_network_mix','gradient_clip',\n",
    "    # 'td3_noise','td3_noise_clip','td3_delay',\n",
    "]\n",
    "# {'td3_noise': 0.34124696474479593, 'td3_noise_clip': 0.6097341595074779, 'td3_delay': 3,'fc1':500,'fc2':400,'fc3':300,},\n",
    "# N:0.360176\tN_Clip:0.667340\tDelay:3\n",
    "# N:0.341247\tN_Clip:0.609734\tDelay:3\n",
    "config.fc1 = 400\n",
    "config.fc2 = 300\n",
    "config.fc3 = 193\n",
    "config.weight_decay_act = 0.0\n",
    "config.weight_decay = 0.012\n",
    "config.actor_lr = 1e-4\n",
    "config.critic_lr = 1e-4\n",
    "config.target_network_mix = 0.000327\n",
    "config.discount = 0.715992\n",
    "config.gradient_clip = 3\n",
    "config.td3_noise = 0.34124696474479593\n",
    "config.td3_noise_clip = 0.6097341595074779\n",
    "config.td3_delay = 3\n",
    "\n",
    "config.max_steps = int(1e6)\n",
    "config.eval_episodes = 128\n",
    "config.batch_size = 128\n",
    "config.eval_interval = int(1e4)\n",
    "config.memory_size=int(1e5)\n",
    "\n",
    "Config.DEVICE = torch.device('cpu')\n",
    "config.device = Config.DEVICE\n",
    "config.eval_episodes = 400\n",
    "config.scores_window = 40\n",
    "best,scores = ts.tune(config,space_cfg,max_iter = 16,first=first)\n",
    "print('Best:{}'.format(best) , flush = True)"
   ]
  },
  {
   "cell_type": "code",
   "execution_count": 13,
   "id": "add25895-2f92-4919-8aea-3a340415be42",
   "metadata": {},
   "outputs": [
    {
     "data": {
      "image/png": "[encoded data removed]",
      "text/plain": [
       "<Figure size 432x288 with 1 Axes>"
      ]
     },
     "metadata": {
      "needs_background": "light"
     },
     "output_type": "display_data"
    }
   ],
   "source": [
    "# plot the scores\n",
    "fig = plt.figure()\n",
    "ax = fig.add_subplot(111)\n",
    "plt.plot(np.arange(len(scores)), scores)\n",
    "plt.ylabel('Score')\n",
    "plt.xlabel('Episode')\n",
    "st = ''\n",
    "for k in config.update_fields:\n",
    "    st += '{}:{} '.format(k,best[k])\n",
    "plt.title(\"TD3 \\n{}\".format(st))\n",
    "plt.show()"
   ]
  },
  {
   "cell_type": "code",
   "execution_count": 14,
   "id": "88664a48-3064-401b-b19d-cd8f76daa488",
   "metadata": {},
   "outputs": [],
   "source": [
    "env.close()"
   ]
  }
 ],
 "metadata": {
  "kernelspec": {
   "display_name": "gym",
   "language": "python",
   "name": "gym"
  },
  "language_info": {
   "codemirror_mode": {
    "name": "ipython",
    "version": 3
   },
   "file_extension": ".py",
   "mimetype": "text/x-python",
   "name": "python",
   "nbconvert_exporter": "python",
   "pygments_lexer": "ipython3",
   "version": "3.6.13"
  }
 },
 "nbformat": 4,
 "nbformat_minor": 5
}
