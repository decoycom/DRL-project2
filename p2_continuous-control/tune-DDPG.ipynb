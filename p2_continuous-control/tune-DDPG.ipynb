{
 "cells": [
  {
   "cell_type": "code",
   "execution_count": null,
   "id": "ec6476ac-9d53-488e-95e9-f5b287c8d061",
   "metadata": {
    "jupyter": {
     "source_hidden": true
    },
    "tags": []
   },
   "outputs": [],
   "source": [
    "import pandas as pd\n",
    "import numpy  as np\n",
    "from hebo.design_space.design_space import DesignSpace\n",
    "from hebo.optimizers.hebo import HEBO\n",
    "\n",
    "def obj(params : pd.DataFrame) -> np.ndarray:\n",
    "    return ((params.values - 0.37)**2).sum(axis = 1).reshape(-1, 1)\n",
    "space_cfg = [\n",
    "            {'name' : 'max_depth',        'type' : 'int', 'lb' : 1, 'ub' : 20},\n",
    "            {'name' : 'min_samples_leaf', 'type' : 'pow', 'lb' : 1e-4, 'ub' : 0.5},\n",
    "#             {'name' : 'max_features',     'type' : 'cat', 'categories' : ['auto', 'sqrt', 'log2']},\n",
    "            {'name' : 'bootstrap',        'type' : 'bool'},\n",
    "            {'name' : 'min_impurity_decrease', 'type' : 'pow', 'lb' : 1e-4, 'ub' : 1.0},\n",
    "            ]        \n",
    "# space = DesignSpace().parse(space_cfg)\n",
    "space = DesignSpace().parse([{'name' : 'x', 'type' : 'num', 'lb' : -3, 'ub' : 5}])\n",
    "opt   = HEBO(space)\n",
    "for i in range(5):\n",
    "    rec = opt.suggest(n_suggestions = 4)\n",
    "    print('After {} iterations, \\n{}'.format(i, rec))\n",
    "    opt.observe(rec, obj(rec))\n",
    "#     sign    = -1. if greater_is_better else 1.0\n",
    "#     opt.observe(rec, np.array([sign * score_v]))\n",
    "    print('opt.y:{}, argmin:{} \\nopt.X:{}'.format(opt.y,np.argmin(opt.y.reshape(-1)),opt.X))\n",
    "    print('After %d iterations, best obj is mi:%.2f ma:%.2f' % (i, opt.y.min(), opt.y.max()))"
   ]
  },
  {
   "cell_type": "code",
   "execution_count": null,
   "id": "8a41d66d-9f11-466d-9cf4-3b7bac365568",
   "metadata": {
    "jupyter": {
     "source_hidden": true
    },
    "tags": []
   },
   "outputs": [],
   "source": [
    "from sklearn.datasets import load_boston\n",
    "from sklearn.ensemble import RandomForestRegressor\n",
    "from sklearn.metrics import r2_score, mean_squared_error\n",
    "\n",
    "from hebo.sklearn_tuner import sklearn_tuner\n",
    "\n",
    "space_cfg = [\n",
    "    {'name' : 'max_depth', 'type' : 'int', 'lb' : 1, 'ub' : 20},\n",
    "    {'name' : 'min_samples_leaf', 'type' : 'num', 'lb' : 1e-4, 'ub' : 0.5},\n",
    "    {'name' : 'max_features', 'type' : 'cat', 'categories' : ['auto', 'sqrt', 'log2']},\n",
    "    {'name' : 'bootstrap', 'type' : 'bool'},\n",
    "    {'name' : 'min_impurity_decrease', 'type' : 'pow', 'lb' : 1e-4, 'ub' : 1.0},\n",
    "    ]\n",
    "X, y   = load_boston(return_X_y = True)\n",
    "result = sklearn_tuner(RandomForestRegressor, space_cfg, X, y, metric = r2_score, max_iter = 16)"
   ]
  },
  {
   "cell_type": "code",
   "execution_count": 1,
   "id": "46a96e48-6180-481c-9680-ab0d56c2051d",
   "metadata": {},
   "outputs": [],
   "source": [
    "from unityagents import UnityEnvironment\n",
    "# from mlagents_envs.environment import UnityEnvironment\n",
    "import numpy as np\n",
    "import pandas as pd\n",
    "import torch\n",
    "import matplotlib.pyplot as plt\n",
    "%matplotlib inline"
   ]
  },
  {
   "cell_type": "code",
   "execution_count": 2,
   "id": "63d6207a-be20-4f75-8dc3-2c98d0411e28",
   "metadata": {},
   "outputs": [
    {
     "name": "stderr",
     "output_type": "stream",
     "text": [
      "INFO:unityagents:\n",
      "'Academy' started successfully!\n",
      "Unity Academy name: Academy\n",
      "        Number of Brains: 1\n",
      "        Number of External Brains : 1\n",
      "        Lesson number : 0\n",
      "        Reset Parameters :\n",
      "\t\tgoal_speed -> 1.0\n",
      "\t\tgoal_size -> 5.0\n",
      "Unity brain name: ReacherBrain\n",
      "        Number of Visual Observations (per agent): 0\n",
      "        Vector Observation space type: continuous\n",
      "        Vector Observation space size (per agent): 33\n",
      "        Number of stacked Vector Observation: 1\n",
      "        Vector Action space type: continuous\n",
      "        Vector Action space size (per agent): 4\n",
      "        Vector Action descriptions: , , , \n"
     ]
    }
   ],
   "source": [
    "f = 'Reacher_Windows'\n",
    "# f = 'Reacher_Windows_20'\n",
    "# f = 'Reacher_Linux'\n",
    "# f = 'Reacher_Linux_NoVis'\n",
    "# f = 'Reacher_Linux_20'\n",
    "# f = 'Reacher_Linux_NoVis_20'\n",
    "no_graphics = False\n",
    "env = UnityEnvironment(file_name='{}/Reacher'.format(f), seed=1,no_graphics=no_graphics, worker_id=3)"
   ]
  },
  {
   "cell_type": "code",
   "execution_count": 3,
   "id": "02ae7089-a3a4-4302-87ad-6c3cad1ddbde",
   "metadata": {},
   "outputs": [
    {
     "name": "stdout",
     "output_type": "stream",
     "text": [
      "Number of agents: 1\n",
      "Size of each action: 4\n",
      "There are 1 agents. Each observes a state with length: 33\n"
     ]
    }
   ],
   "source": [
    "# get the default brain\n",
    "brain_name = env.brain_names[0]\n",
    "brain = env.brains[brain_name]\n",
    "env_info = env.reset(train_mode=True)[brain_name]\n",
    "\n",
    "# number of agents\n",
    "num_agents = len(env_info.agents)\n",
    "print('Number of agents:', num_agents)\n",
    "\n",
    "# size of each action\n",
    "action_size = brain.vector_action_space_size\n",
    "print('Size of each action:', action_size)\n",
    "\n",
    "# examine the state space \n",
    "states = env_info.vector_observations\n",
    "state_size = states.shape[1]\n",
    "print('There are {} agents. Each observes a state with length: {}'.format(states.shape[0], state_size))"
   ]
  },
  {
   "cell_type": "markdown",
   "id": "cd30f095-38f3-409b-9da9-d604d2a8d566",
   "metadata": {},
   "source": [
    "## Brains"
   ]
  },
  {
   "cell_type": "code",
   "execution_count": 4,
   "id": "084271f8-a7cd-4927-8d1f-d13d44aa0c63",
   "metadata": {
    "jupyter": {
     "source_hidden": true
    },
    "tags": []
   },
   "outputs": [],
   "source": [
    "def brain(brain_name,agent,config,env, it=0):\n",
    "    n_episodes = config.eval_episodes # 2000, \n",
    "    max_t = config.max_steps # 1500, \n",
    "    # eps_start=1.0, \n",
    "    # eps_end=0.01, \n",
    "    # eps_decay=0.995\n",
    "    window = getattr(config, 'scores_window', 100)\n",
    "    \n",
    "    scores = []                        # list containing scores from each episode\n",
    "    scores_window = deque(maxlen=window)  # last 100 scores\n",
    "    # eps = eps_start                    # initialize epsilon\n",
    "\n",
    "    pritty = getattr(config, 'pritty_fields', {})\n",
    "    st = ''\n",
    "    for k in config.update_fields:\n",
    "        v = getattr(config, k)\n",
    "        if k in pritty:\n",
    "            k = pritty[k]\n",
    "        if float(v).is_integer():\n",
    "            st += '{}:{}\\t'.format(k,v)\n",
    "        else:\n",
    "            st += '{}:{:.6f}\\t'.format(k,v)\n",
    "    print('\\rStart[{}]\\t{}'.format(it,st), flush = True)\n",
    "#     , end=\"\"\n",
    "\n",
    "    win_mean = 0\n",
    "    for i_episode in range(1, n_episodes+1):\n",
    "        env_info = env.reset(train_mode=True)[brain_name] # reset the environment\n",
    "        state = env_info.vector_observations[0]\n",
    "        \n",
    "        score = 0\n",
    "        for t in range(max_t):\n",
    "            action = agent.act(state) # eps\n",
    "            \n",
    "            env_info = env.step(action)[brain_name]        # send the action to the environment\n",
    "            next_state = env_info.vector_observations[0]   # get the next state\n",
    "            reward = env_info.rewards[0]                   # get the reward\n",
    "            done = env_info.local_done[0]                  # see if episode has finished\n",
    "    \n",
    "            agent.step(state, action, reward, next_state, done)\n",
    "        \n",
    "            state = next_state\n",
    "            score += reward\n",
    "            if done:\n",
    "                break \n",
    "        scores_window.append(score)       # save most recent score\n",
    "        scores.append(score)              # save most recent score\n",
    "        \n",
    "        win_mean = np.mean(scores_window)\n",
    "        # eps = max(eps_end, eps_decay*eps) # decrease epsilon\n",
    "        print('\\rEpisode {}\\t{} a-Average Score: {:.2f}'.format(i_episode,st,win_mean), end=\"\")\n",
    "        if i_episode % window == 0:\n",
    "            # print('\\rEpisode {}\\tAverage Score: {:.2f}'.format(i_episode, np.mean(scores_window)))\n",
    "            print('\\rEpisode[{}] {}\\t{} a-Average Score: {:.2f}'.format(it, i_episode,st,win_mean), flush = True)\n",
    "    \n",
    "        if np.mean(scores_window)>=30.0:\n",
    "            print('\\nEnvironment[{}] solved in {:d} episodes!\\t{} Average Score: {:.2f}'.format(it,i_episode-100,st, win_mean), flush = True)\n",
    "            torch.save(agent.qnetwork_local.state_dict(), 'checkpoint.pth')\n",
    "            break\n",
    "            \n",
    "    return (scores, win_mean)"
   ]
  },
  {
   "cell_type": "code",
   "execution_count": 5,
   "id": "5663c184-0f74-4766-9c57-9fd56c7c7200",
   "metadata": {
    "jupyter": {
     "source_hidden": true
    },
    "tags": []
   },
   "outputs": [],
   "source": [
    "def brain_multy(brain_name,agent,config,env, it=0):\n",
    "    number = config.num_workers\n",
    "    n_episodes = config.eval_episodes # 2000, \n",
    "    max_t = config.max_steps # 1500, \n",
    "    # eps_start=1.0, \n",
    "    # eps_end=0.01, \n",
    "    # eps_decay=0.995\n",
    "    \n",
    "    scores = []                        # list containing scores from each episode\n",
    "    scores_window = []  # last 100 scores\n",
    "    \n",
    "    for i in range(number):\n",
    "#         scores.append([])\n",
    "        scores_window.append(deque(maxlen=100))\n",
    "    \n",
    "    # eps = eps_start                    # initialize epsilon\n",
    "\n",
    "    pritty = getattr(config, 'pritty_fields', {})\n",
    "    st = ''\n",
    "    for k in config.update_fields:\n",
    "        v = getattr(config, k)\n",
    "        if k in pritty:\n",
    "            k = pritty[k]\n",
    "        if float(v).is_integer():\n",
    "            st += '{}:{}\\t'.format(k,v)\n",
    "        else:\n",
    "            st += '{}:{:.6f}\\t'.format(k,v)\n",
    "    print('\\rStart[{}]\\t{}'.format(it,st), flush = True)\n",
    "#     , end=\"\"\n",
    "\n",
    "#     next_states, rewards, terminals, info\n",
    "    def step_fn(actions):\n",
    "        env_info = env.step(actions)[brain_name]        # send the action to the environment\n",
    "        next_states = env_info.vector_observations   # get the next state\n",
    "        rewards = env_info.rewards                   # get the reward\n",
    "        dones = env_info.local_done                  # see if episode has finished\n",
    "        dones = np.asarray(dones, dtype=np.int32)\n",
    "        return (next_states,rewards,dones,env_info)\n",
    "        \n",
    "#     = lambda action: torch.optim.Adam(params, lr=config.actor_lr), #, weight_decay=config.weight_decay\n",
    "\n",
    "    win_mean = 0\n",
    "    for i_episode in range(1, n_episodes+1):\n",
    "        env_info = env.reset(train_mode=True)[brain_name] # reset the environment\n",
    "        states = env_info.vector_observations\n",
    "#         print(\"shape:{}\".format(states.shape))\n",
    "#         print(states)\n",
    "#         break\n",
    "        score = np.zeros(number)\n",
    "        for t in range(max_t):\n",
    "            \n",
    "            states,rewards,dones = agent.learn(states,step_fn)         \n",
    "            score = score + rewards\n",
    "            if np.any(dones):\n",
    "                break \n",
    "        for i in range(number):\n",
    "            scores_window[i].append(score[i])       # save most recent score\n",
    "        scores.append(np.mean(score))              # save most recent score\n",
    "        \n",
    "        win_mean = np.mean(scores_window)\n",
    "        # eps = max(eps_end, eps_decay*eps) # decrease epsilon\n",
    "        print('\\rEpisode {}\\t{} a-Average Score: {:.2f}'.format(i_episode,st,win_mean), end=\"\")\n",
    "        if i_episode % 100 == 0:\n",
    "            # print('\\rEpisode {}\\tAverage Score: {:.2f}'.format(i_episode, np.mean(scores_window)))\n",
    "            print('\\rEpisode[{}] {}\\t{} a-Average Score: {:.2f}'.format(it, i_episode,st,win_mean), flush = True)\n",
    "    \n",
    "        if win_mean>=30.0:\n",
    "            print('\\nEnvironment[{}] solved in {:d} episodes!\\t{} Average Score: {:.2f}'.format(it,i_episode-100,st, win_mean), flush = True)\n",
    "            torch.save(agent.qnetwork_local.state_dict(), 'checkpoint.pth')\n",
    "            break\n",
    "            \n",
    "    return (scores, win_mean)"
   ]
  },
  {
   "cell_type": "markdown",
   "id": "b01673b1-a3c1-4556-8e2f-b759c31a7f3a",
   "metadata": {},
   "source": [
    "## Strategies"
   ]
  },
  {
   "cell_type": "code",
   "execution_count": 9,
   "id": "1f944c37-6dff-4199-9065-479e751365f1",
   "metadata": {
    "jupyter": {
     "source_hidden": true
    },
    "tags": []
   },
   "outputs": [],
   "source": [
    "def initConf_ddpg(state_size,action_size):\n",
    "    select_device(0)\n",
    "\n",
    "    config = Config()\n",
    "\n",
    "    config.update_fields = [\n",
    "        'fc1','fc2','fc3',\n",
    "        #'weight_decay_act','weight_decay',\n",
    "        #'actor_lr','critic_lr',\n",
    "        #'target_network_mix','discount',\n",
    "        #'gradient_clip','act_clip',\n",
    "    ]\n",
    "    config.pritty_fields = {'weight_decay_act':'a_W','weight_decay':'c_W','actor_lr':'a_Lr','critic_lr':'c_Lr','target_network_mix':'tau','gradient_clip':'c_Clip','act_clip':'a_Clip','discount':'G'}\n",
    "    # config.merge(kwargs)\n",
    "    config.device = Config.DEVICE\n",
    "    print(\"config.device:{}\".format(config.device))\n",
    "    \n",
    "    config.seed = 0    \n",
    "\n",
    "    config.fc1 = 300\n",
    "    config.fc2 = 200\n",
    "    config.fc3 = 100\n",
    "\n",
    "    config.eval_episodes = 200\n",
    "    config.max_steps = int(1e7)\n",
    "    config.batch_size = 64\n",
    "    \n",
    "    config.gradient_clip = 5\n",
    "    config.eval_interval = 4\n",
    "    config.memory_size = int(1e6)            \n",
    "    config.warm_up = config.batch_size\n",
    "\n",
    "    # num_agents\n",
    "    config.state_dim = state_size\n",
    "    config.action_dim = action_size\n",
    "    # 400, 300\n",
    "    config.network_fn = lambda cfg: DeterministicActorCriticNet(\n",
    "        cfg.state_dim, cfg.action_dim,\n",
    "        actor_body=FCBody(cfg.state_dim, (cfg.fc1, cfg.fc2, cfg.fc3), gate=F.relu),\n",
    "        critic_body=FCBody(cfg.state_dim + cfg.action_dim, (cfg.fc1, cfg.fc2, cfg.fc3), gate=F.relu),\n",
    "\n",
    "        actor_opt_fn=lambda params: torch.optim.Adam(params, lr=cfg.actor_lr, weight_decay=cfg.weight_decay_act),\n",
    "        critic_opt_fn=lambda params: torch.optim.Adam(params, lr=cfg.critic_lr, weight_decay=cfg.weight_decay))\n",
    "\n",
    "    # self.memory = ReplayBuffer(action_size, BUFFER_SIZE, BATCH_SIZE, seed)    \n",
    "    config.replay_fn = lambda: UniformReplay(memory_size=config.memory_size, batch_size=config.batch_size)\n",
    "\n",
    "    config.agent_fn = lambda conf: DDPGAg(conf)\n",
    "    config.brain_fn = lambda cfg: brain(brain_name,cfg.agent_fn(cfg),cfg,env)\n",
    "\n",
    "    config.random_process_fn = lambda: OrnsteinUhlenbeckProcess(\n",
    "        size=(config.action_dim,), std=LinearSchedule(0.2)) \n",
    "    return config"
   ]
  },
  {
   "cell_type": "code",
   "execution_count": 7,
   "id": "e1c17d1c-14dd-4763-ae2d-06ec690e8c6d",
   "metadata": {
    "jupyter": {
     "source_hidden": true
    },
    "tags": []
   },
   "outputs": [],
   "source": [
    "def initConf_td3(state_size,action_size):\n",
    "    \n",
    "    select_device(0)\n",
    "    config = Config()\n",
    "\n",
    "    config.update_fields = ['fc1','fc2','fc3','weight_decay','weight_decay_act','actor_lr','critic_lr','target_network_mix','discount','gradient_clip']\n",
    "    \n",
    "    config.fc1 = 300\n",
    "    config.fc2 = 200\n",
    "    config.fc3 = 100\n",
    "\n",
    "    config.device = Config.DEVICE\n",
    "    config.state_dim = state_size\n",
    "    config.action_dim = action_size\n",
    "\n",
    "    config.max_steps = int(1e7)\n",
    "    config.eval_episodes = 100\n",
    "    config.batch_size = 128\n",
    "\n",
    "    config.eval_interval = int(1e4)\n",
    "    config.memory_size=int(1e6)\n",
    "\n",
    "    config.gradient_clip = 5\n",
    "    config.weight_decay=0.012\n",
    "    config.actor_lr = 1e-4\n",
    "    config.critic_lr = 1e-4\n",
    "    config.target_network_mix = 5e-3\n",
    "    config.discount = 0.98\n",
    "\n",
    "    config.td3_noise = 0.2\n",
    "    config.td3_noise_clip = 0.5\n",
    "    config.td3_delay = 2\n",
    "\n",
    "    config.network_fn = lambda cfg: TD3Net(\n",
    "        cfg.action_dim,\n",
    "        actor_body_fn=lambda: FCBody(cfg.state_dim, (cfg.fc1, cfg.fc2, cfg.fc3), gate=F.relu),\n",
    "        critic_body_fn=lambda: FCBody(cfg.state_dim + cfg.action_dim, (cfg.fc1, cfg.fc2, cfg.fc3), gate=F.relu),\n",
    "        actor_opt_fn=lambda params: torch.optim.Adam(params, lr=cfg.actor_lr, weight_decay=cfg.weight_decay_act),\n",
    "        critic_opt_fn=lambda params: torch.optim.Adam(params, lr=cfg.critic_lr,weight_decay=cfg.weight_decay))\n",
    "    #     .to(config.device)\n",
    "\n",
    "    replay_kwargs = dict(\n",
    "        memory_size=config.memory_size,\n",
    "        batch_size=config.batch_size,\n",
    "    )\n",
    "\n",
    "    config.replay_fn = lambda: ReplayWrapper(UniformReplay, replay_kwargs, async=False)\n",
    "    config.random_process_fn = lambda: GaussianProcess(\n",
    "        size=(config.action_dim,), std=LinearSchedule(0.1))\n",
    "\n",
    "    config.warm_up = int(1e4)\n",
    "\n",
    "    config.agent_fn = lambda conf: TD3Ag(conf)\n",
    "    config.brain_fn = lambda cfg: brain(brain_name,cfg.agent_fn(cfg),cfg,env)\n",
    "    \n",
    "    return config"
   ]
  },
  {
   "cell_type": "code",
   "execution_count": 8,
   "id": "c2a815bb-a5e0-4ca6-bc75-8f2a1d0a5dd2",
   "metadata": {
    "jupyter": {
     "source_hidden": true
    },
    "tags": []
   },
   "outputs": [],
   "source": [
    "# from deep_rl import *\n",
    "# from agent import *\n",
    "# A2C\n",
    "def a2c_feature(state_size,action_size):\n",
    "    config = Config()\n",
    "\n",
    "    config.update_fields = ['rollout_length', 'lr', 'gae_tau', 'entropy_weight', 'discount','gradient_clip']\n",
    "    config.max_steps = int(2e7)\n",
    "\n",
    "#     config.eval_interval = int(1e4)\n",
    "    config.eval_episodes = 200\n",
    "    config.batch_size = 128\n",
    "#     config.memory_size=int(1e6)\n",
    "    \n",
    "    config.device = Config.DEVICE\n",
    "    config.state_dim = state_size\n",
    "    config.action_dim = action_size\n",
    "    \n",
    "    config.discount = 0.99\n",
    "    config.use_gae = True\n",
    "    config.gae_tau = 1.0\n",
    "    config.entropy_weight = 0.01\n",
    "    config.rollout_length = 10\n",
    "    config.gradient_clip = 2\n",
    "    config.lr = 0.0007\n",
    "\n",
    "    config.num_workers = 20\n",
    "    \n",
    "    config.optimizer_fn = lambda params,cfg: torch.optim.RMSprop(params, lr=cfg.lr)\n",
    "    config.network_fn = lambda cfg: GaussianActorCriticNet(\n",
    "        cfg.state_dim, cfg.action_dim,\n",
    "        actor_body=FCBody(cfg.state_dim), critic_body=FCBody(cfg.state_dim))\n",
    "        \n",
    "#     config.optimizer_fn = lambda params: torch.optim.RMSprop(params, 0.001)\n",
    "#     config.network_fn = lambda: CategoricalActorCriticNet(\n",
    "#         config.state_dim, config.action_dim, FCBody(config.state_dim, gate=F.tanh))\n",
    "    \n",
    "    config.storage_fn = lambda:  Storage(config.rollout_length)\n",
    "    \n",
    "    config.agent_fn = lambda cfg: A2CAg(cfg)\n",
    "    config.brain_fn = lambda cfg: brain_multy(brain_name,cfg.agent_fn(cfg),cfg,env)\n",
    "    \n",
    "    return config"
   ]
  },
  {
   "cell_type": "markdown",
   "id": "9ba81134-7475-4bbb-9d3e-c82d7f86bbad",
   "metadata": {},
   "source": [
    "## Tuner"
   ]
  },
  {
   "cell_type": "code",
   "execution_count": 6,
   "id": "a81374df-7431-46f6-87bd-b2e13b99110b",
   "metadata": {
    "jupyter": {
     "source_hidden": true
    },
    "tags": []
   },
   "outputs": [],
   "source": [
    "from unityagents import UnityEnvironment\n",
    "# from mlagents_envs.environment import UnityEnvironment\n",
    "import numpy as np\n",
    "import pandas as pd\n",
    "import torch\n",
    "\n",
    "from time import sleep\n",
    "\n",
    "from deep_rl import *\n",
    "from agent import *\n",
    "from hebo.design_space.design_space import DesignSpace\n",
    "from hebo.optimizers.hebo import HEBO\n",
    "from joblib import Parallel, delayed\n",
    "\n",
    "import os\n",
    "base_path = os.getcwd()\n",
    "\n",
    "\n",
    "def tune(\n",
    "    config : Config,\n",
    "    space_cfg, \n",
    "    max_iter=10, \n",
    "    hebo_cfg = None,\n",
    "    greater_is_better : bool = True,\n",
    "    verbose  = True,\n",
    "    first = [],\n",
    "    **kwargs\n",
    "    ):\n",
    "\n",
    "    if hebo_cfg is None:\n",
    "        hebo_cfg = {}\n",
    "    space = DesignSpace().parse(space_cfg)\n",
    "    opt   = HEBO(space, **hebo_cfg)\n",
    "    \n",
    "    scoresz = []\n",
    "    first_index = 0\n",
    "    for i in range(max_iter):\n",
    "        if len(first) > first_index:\n",
    "            hyp = first[first_index]\n",
    "            first_index += 1\n",
    "            details = {}\n",
    "            for n,v in hyp.items():\n",
    "                details[n] = [v]\n",
    "            rec = pd.DataFrame(details)\n",
    "        else:\n",
    "            rec     = opt.suggest()\n",
    "            hyp     = rec.iloc[0].to_dict()\n",
    "        for k in config.update_fields:\n",
    "#         for k in hyp:\n",
    "            if space.paras[k].is_numeric and space.paras[k].is_discrete:\n",
    "#                 hyp[k] = int(hyp[k])\n",
    "                setattr(config, k, int(hyp[k]))\n",
    "            else:\n",
    "                setattr(config, k, hyp[k])\n",
    "\n",
    "        scores,reward = config.brain_fn(config)\n",
    "        # brain(brain_name,a,config,env)\n",
    "        scoresz.append(scores)\n",
    "\n",
    "        sign    = -1. if greater_is_better else 1.0\n",
    "        opt.observe(rec, np.array([sign * reward]))\n",
    "        if verbose:\n",
    "            print('\\rIter %d, best metric: %g' % (i, sign * opt.y.min()), flush = True, end=\"\")\n",
    "            \n",
    "    best_id   = np.argmin(opt.y.reshape(-1))\n",
    "    best_hyp  = opt.X.iloc[best_id]\n",
    "    df_report = opt.X.copy()\n",
    "    df_report['metric'] = sign * opt.y\n",
    "#     if report:\n",
    "#         return best_hyp.to_dict(), df_report\n",
    "    return best_hyp.to_dict(),scoresz[best_id]"
   ]
  },
  {
   "cell_type": "code",
   "execution_count": 9,
   "id": "526a79e9-ad2a-416f-b7a6-7de55d731e62",
   "metadata": {
    "jupyter": {
     "source_hidden": true
    },
    "tags": []
   },
   "outputs": [],
   "source": [
    "def core_para(it, hyp, env = None):\n",
    "    print(\"it:{} hyp:{}\".format(it,hyp), flush = True)\n",
    "    \n",
    "    filename = os.path.join(base_path, '{}/Reacher'.format('Reacher_Windows'))\n",
    "    \n",
    "    if env is None:\n",
    "        env = UnityEnvironment(file_name=filename, seed=0,no_graphics=False, worker_id=0+it)\n",
    "    \n",
    "    brain_name = env.brain_names[0]\n",
    "    brain = env.brains[brain_name]\n",
    "    env_info = env.reset(train_mode=True)[brain_name]\n",
    "    num_agents = len(env_info.agents)\n",
    "    action_size = brain.vector_action_space_size\n",
    "    states = env_info.vector_observations\n",
    "    state_size = states.shape[1]\n",
    "\n",
    "    config = initConf_ddpg(state_size,action_size)\n",
    "    \n",
    "    for k in config.update_fields:\n",
    "        if space.paras[k].is_numeric and space.paras[k].is_discrete:\n",
    "            setattr(config, k, int(hyp[k]))\n",
    "        else:\n",
    "            setattr(config, k, hyp[k])\n",
    "\n",
    "    a = config.agent_fn(config)\n",
    "    scores,reward = brain(brain_name,a,config,env,it=it)\n",
    "    env.close()\n",
    "    return (scores,reward)\n",
    "\n",
    "def tune_para(\n",
    "    space_cfg, \n",
    "    max_iter=10, \n",
    "    hebo_cfg = None,\n",
    "    greater_is_better : bool = True,\n",
    "    verbose  = True,\n",
    "    **kwargs\n",
    "    ):\n",
    "    \n",
    "    sign = -1. if greater_is_better else 1.0\n",
    "\n",
    "    if hebo_cfg is None:\n",
    "        hebo_cfg = {}\n",
    "    space = DesignSpace().parse(space_cfg)\n",
    "    opt   = HEBO(space, rand_sample = 1, **hebo_cfg)\n",
    "    \n",
    "#     envs = []\n",
    "#     print(\"UnityEnvironment Start\".format(), flush = True)\n",
    "    \n",
    "#     f = 'Reacher_Windows'\n",
    "#     no_graphics = False\n",
    "#     for i in range(1,3):\n",
    "#         print(\"UnityEnvironment i:{}\".format(i), flush = True)\n",
    "#         done = False\n",
    "#         failed = 0\n",
    "#         while not done:\n",
    "#             try:\n",
    "#                 envs.append(UnityEnvironment(file_name='{}/Reacher'.format(f), seed=1,no_graphics=no_graphics, worker_id=0+i))\n",
    "#                 done = True\n",
    "#                 print(\"UnityEnvironment Done i:{}\".format(i), flush = True)\n",
    "#                 sleep(5)\n",
    "#             except Exception as e:            \n",
    "#                 print(\"it:{} UnityEnvironment failed:{}\".format(i,e), flush = True)\n",
    "#                 failed += 1\n",
    "#                 if failed>5:\n",
    "#                     done = True\n",
    "#             return            \n",
    "#     print(\"it:{} UnityEnvironment len envs:{}\".format(i,len(envs)), flush = True)\n",
    "    \n",
    "    scoresz = []\n",
    "    \n",
    "    try:\n",
    "    \n",
    "        for i in range(max_iter):\n",
    "            rec     = opt.suggest(n_suggestions=2)\n",
    "    #         hyp     = rec.iloc[0].to_dict()\n",
    "    #         verbose=100, pre_dispatch='1.5*n_jobs'\n",
    "            outs = Parallel(n_jobs=2,verbose=100, prefer=\"processes\")(delayed(core_para)(i,rc.to_dict()) for i,rc in enumerate(rec.iloc))\n",
    "#         envs[i],\n",
    "\n",
    "            outs\n",
    "            if verbose:\n",
    "                print('\\routs:{}'.format(outs), flush = True)\n",
    "\n",
    "            a = []\n",
    "            for s,r in outs:\n",
    "                a.append(sign * r)\n",
    "\n",
    "            opt.observe(rec, np.array(a))\n",
    "    #         opt.observe(rec, np.array([sign * reward]))\n",
    "            if verbose:\n",
    "                print('\\r\\nIter %d, best metric: %g' % (i, sign * opt.y.min()), flush = True, end=\"\")\n",
    "    except Exception as e:                \n",
    "#         for env in envs:\n",
    "#             env.close()\n",
    "#         envs = []\n",
    "        raise e\n",
    "#     else:\n",
    "#         for env in envs:\n",
    "#             env.close()\n",
    "#         envs = []\n",
    "    \n",
    "    best_id   = np.argmin(opt.y.reshape(-1))\n",
    "    best_hyp  = opt.X.iloc[best_id]\n",
    "    df_report = opt.X.copy()\n",
    "    df_report['metric'] = sign * opt.y\n",
    "#     if report:\n",
    "#         return best_hyp.to_dict(), df_report\n",
    "    return best_hyp.to_dict(),scoresz[best_id]"
   ]
  },
  {
   "cell_type": "markdown",
   "id": "06db24dc-e95d-46b5-b141-5e6f5d346101",
   "metadata": {},
   "source": [
    "## Runners"
   ]
  },
  {
   "cell_type": "code",
   "execution_count": 7,
   "id": "218a8842-61e9-4fd1-a154-d2087bfe9d5e",
   "metadata": {},
   "outputs": [],
   "source": [
    "import tools as ts\n",
    "from deep_rl import *\n",
    "\n",
    "first = [{\n",
    "     'fc1': 207, 'fc2': 216, 'fc3': 311, \n",
    "     'gradient_clip': 1.043616, \n",
    "     'target_network_mix': 0.000002,\n",
    "     'discount': 0.445165,\n",
    "     'actor_lr': 0.00001749, 'critic_lr': 0.00000012, \n",
    "     'weight_decay_act': 0.007017, 'weight_decay': 0.024510, \n",
    "     'target_network_mix': 0.000002,\n",
    "    },\n",
    "]\n",
    "\n",
    "space_cfg = [        \n",
    "        # {'name' : 'fc1',             'type' : 'int', 'lb' : 50, 'ub' : 600, \"step\": 100},\n",
    "        # {'name' : 'fc2',             'type' : 'int', 'lb' : 50, 'ub' : 500, \"step\": 100},\n",
    "        # {'name' : 'fc3',             'type' : 'int', 'lb' : 50, 'ub' : 400, \"step\": 50},\n",
    "    \n",
    "        #{'name' : 'gradient_clip',   'type' : 'int', 'lb' : 1.0, 'ub' : 10.0},\n",
    "        #{'name' : 'act_clip',        'type' : 'int', 'lb' : 1.0, 'ub' : 15.0},\n",
    "    \n",
    "        #{'name' : 'discount',        'type' : 'num', 'lb' : 0.5, 'ub' : 1.0},\n",
    "        #{'name' : 'target_network_mix',       'type' : 'pow', 'lb' : 1e-5, 'ub' : 1e-2},\n",
    "    \n",
    "        #{'name' : 'actor_lr',        'type' : 'pow', 'lb' : 1e-6, 'ub' : 1e-2},\n",
    "        #{'name' : 'critic_lr',       'type' : 'pow', 'lb' : 1e-6, 'ub' : 1e-2},\n",
    "    \n",
    "        {'name' : 'weight_decay_act','type' : 'num', 'lb' : 0.0, 'ub' : 0.2},\n",
    "        {'name' : 'weight_decay',    'type' : 'num', 'lb' : 0.0, 'ub' : 0.2},\n",
    "        ]"
   ]
  },
  {
   "cell_type": "code",
   "execution_count": null,
   "id": "c100ef0e-5c23-4cd6-b0d8-5c43d5a1e1e3",
   "metadata": {
    "jupyter": {
     "source_hidden": true
    },
    "tags": []
   },
   "outputs": [],
   "source": [
    "# best,scores = tune_para(space_cfg)\n",
    "# print('Best:{}'.format(best) , flush = True)"
   ]
  },
  {
   "cell_type": "code",
   "execution_count": 5,
   "id": "85af7f8d-d676-42ca-8cbd-60ab9ffb4116",
   "metadata": {},
   "outputs": [
    {
     "name": "stdout",
     "output_type": "stream",
     "text": [
      "Start[0]\tfc1:231\tfc2:125\tfc3:193\t\n",
      "Episode[0] 40\tfc1:231\tfc2:125\tfc3:193\t a-Average Score: 0.40\n",
      "Episode[0] 80\tfc1:231\tfc2:125\tfc3:193\t a-Average Score: 0.41\n",
      "Finished![0] 120\tfc1:231\tfc2:125\tfc3:193\t a-Average Score: 0.32\n",
      "Start[1]\tfc1:50\tfc2:50\tfc3:50\t\n",
      "Episode[1] 40\tfc1:50\tfc2:50\tfc3:50\t a-Average Score: 0.18\n",
      "Finished![1] 80\tfc1:50\tfc2:50\tfc3:50\t a-Average Score: 0.08\n",
      "Start[2]\tfc1:325\tfc2:275\tfc3:225\t\n",
      "Episode[2] 40\tfc1:325\tfc2:275\tfc3:225\t a-Average Score: 0.26\n",
      "Episode[2] 80\tfc1:325\tfc2:275\tfc3:225\t a-Average Score: 0.37\n",
      "Finished![2] 120\tfc1:325\tfc2:275\tfc3:225\t a-Average Score: 0.36\n",
      "Start[3]\tfc1:462\tfc2:162\tfc3:138\t\n",
      "Episode[3] 40\tfc1:462\tfc2:162\tfc3:138\t a-Average Score: 0.37\n",
      "Finished![3] 80\tfc1:462\tfc2:162\tfc3:138\t a-Average Score: 0.37\n",
      "Start[4]\tfc1:480\tfc2:355\tfc3:226\t\n",
      "Episode[4] 40\tfc1:480\tfc2:355\tfc3:226\t a-Average Score: 0.25\n",
      "Episode[4] 80\tfc1:480\tfc2:355\tfc3:226\t a-Average Score: 0.39\n",
      "Episode[4] 120\tfc1:480\tfc2:355\tfc3:226\t a-Average Score: 0.40\n",
      "Episode[4] 160\tfc1:480\tfc2:355\tfc3:226\t a-Average Score: 0.40\n",
      "Finished![4] 200\tfc1:480\tfc2:355\tfc3:226\t a-Average Score: 0.30\n",
      "Start[5]\tfc1:207\tfc2:216\tfc3:311\t\n",
      "Episode[5] 40\tfc1:207\tfc2:216\tfc3:311\t a-Average Score: 0.49\n",
      "Finished![5] 80\tfc1:207\tfc2:216\tfc3:311\t a-Average Score: 0.34\n",
      "Start[6]\tfc1:558\tfc2:67\tfc3:117\t\n",
      "Episode[6] 40\tfc1:558\tfc2:67\tfc3:117\t a-Average Score: 0.44\n",
      "Finished![6] 80\tfc1:558\tfc2:67\tfc3:117\t a-Average Score: 0.41\n",
      "Start[7]\tfc1:600\tfc2:50\tfc3:92\t\n",
      "Episode[7] 40\tfc1:600\tfc2:50\tfc3:92\t a-Average Score: 0.31\n",
      "Finished![7] 80\tfc1:600\tfc2:50\tfc3:92\t a-Average Score: 0.26\n",
      "Start[8]\tfc1:590\tfc2:67\tfc3:233\t\n",
      "Episode[8] 40\tfc1:590\tfc2:67\tfc3:233\t a-Average Score: 0.36\n",
      "Episode[8] 80\tfc1:590\tfc2:67\tfc3:233\t a-Average Score: 0.43\n",
      "Finished![8] 120\tfc1:590\tfc2:67\tfc3:233\t a-Average Score: 0.42\n",
      "Start[9]\tfc1:589\tfc2:56\tfc3:396\t\n",
      "Episode[9] 40\tfc1:589\tfc2:56\tfc3:396\t a-Average Score: 0.26\n",
      "Episode[9] 80\tfc1:589\tfc2:56\tfc3:396\t a-Average Score: 0.46\n",
      "Finished![9] 120\tfc1:589\tfc2:56\tfc3:396\t a-Average Score: 0.43\n",
      "Start[10]\tfc1:577\tfc2:496\tfc3:385\t\n",
      "Episode[10] 40\tfc1:577\tfc2:496\tfc3:385\t a-Average Score: 0.41\n",
      "Finished![10] 80\tfc1:577\tfc2:496\tfc3:385\t a-Average Score: 0.35\n",
      "Start[11]\tfc1:589\tfc2:56\tfc3:234\t\n",
      "Episode[11] 40\tfc1:589\tfc2:56\tfc3:234\t a-Average Score: 0.35\n",
      "Episode[11] 80\tfc1:589\tfc2:56\tfc3:234\t a-Average Score: 0.43\n",
      "Episode[11] 120\tfc1:589\tfc2:56\tfc3:234\t a-Average Score: 0.51\n",
      "Finished![11] 160\tfc1:589\tfc2:56\tfc3:234\t a-Average Score: 0.37\n",
      "Start[12]\tfc1:590\tfc2:57\tfc3:392\t\n",
      "Episode[12] 40\tfc1:590\tfc2:57\tfc3:392\t a-Average Score: 0.45\n",
      "Finished![12] 80\tfc1:590\tfc2:57\tfc3:392\t a-Average Score: 0.34\n",
      "Start[13]\tfc1:65\tfc2:56\tfc3:388\t\n",
      "Episode[13] 40\tfc1:65\tfc2:56\tfc3:388\t a-Average Score: 0.58\n",
      "Finished![13] 80\tfc1:65\tfc2:56\tfc3:388\t a-Average Score: 0.57\n",
      "Start[14]\tfc1:51\tfc2:58\tfc3:400\t\n",
      "Episode[14] 40\tfc1:51\tfc2:58\tfc3:400\t a-Average Score: 0.41\n",
      "Episode[14] 80\tfc1:51\tfc2:58\tfc3:400\t a-Average Score: 0.46\n",
      "Finished![14] 120\tfc1:51\tfc2:58\tfc3:400\t a-Average Score: 0.36\n",
      "Start[15]\tfc1:63\tfc2:56\tfc3:330\t\n",
      "Episode[15] 40\tfc1:63\tfc2:56\tfc3:330\t a-Average Score: 0.55\n",
      "Episode[15] 80\tfc1:63\tfc2:56\tfc3:330\t a-Average Score: 0.56\n",
      "Finished![15] 120\tfc1:63\tfc2:56\tfc3:330\t a-Average Score: 0.36\n",
      "Iter 15, best metric: 0.57475\n",
      "Best:{'fc1': 65, 'fc2': 56, 'fc3': 388}\n"
     ]
    }
   ],
   "source": [
    "config = ts.initConf_ddpg(state_size,action_size,brain_name,env)\n",
    "config.update_fields = [\n",
    "    'weight_decay',\n",
    "    'weight_decay_act',\n",
    "]\n",
    "config.fc1 = 65\n",
    "config.fc2 = 56\n",
    "config.fc3 = 388\n",
    "config.weight_decay_act = 0.007017\n",
    "config.weight_decay = 0.024510\n",
    "config.actor_lr = 1.3382410314962926e-05\n",
    "config.critic_lr = 1.1407538165888507e-07\n",
    "config.target_network_mix = 0.000002\n",
    "config.discount = 0.445165\n",
    "config.gradient_clip = 1.043616\n",
    "\n",
    "config.batch_size = 128\n",
    "config.act_clip = 9\n",
    "\n",
    "Config.DEVICE = torch.device('cpu')\n",
    "config.device = Config.DEVICE\n",
    "config.eval_episodes = 400\n",
    "config.scores_window = 40\n",
    "best,scores = ts.tune(config, space_cfg, max_iter = 16, first = first)\n",
    "print('\\nBest:{}'.format(best) , flush = True)\n",
    "# scores = brain(brain_name,agent,config,env)"
   ]
  },
  {
   "cell_type": "code",
   "execution_count": 6,
   "id": "3175b2db-a69c-4c00-852a-50674c776508",
   "metadata": {},
   "outputs": [
    {
     "data": {
      "image/png": "[encoded data removed]",
      "text/plain": [
       "<Figure size 432x288 with 1 Axes>"
      ]
     },
     "metadata": {
      "needs_background": "light"
     },
     "output_type": "display_data"
    }
   ],
   "source": [
    "# plot the scores\n",
    "fig = plt.figure()\n",
    "ax = fig.add_subplot(111)\n",
    "plt.plot(np.arange(len(scores)), scores)\n",
    "plt.ylabel('Score')\n",
    "plt.xlabel('Episode')\n",
    "st = ''\n",
    "for k in config.update_fields:\n",
    "    st += '{}:{} '.format(k,best[k]) \n",
    "plt.title(\"DDPG \\n{}\".format(st))\n",
    "plt.show()"
   ]
  },
  {
   "cell_type": "code",
   "execution_count": 6,
   "id": "514f5b48-bc0b-4540-a2f8-6de66911858d",
   "metadata": {},
   "outputs": [
    {
     "data": {
      "image/png": "[encoded data removed]",
      "text/plain": [
       "<Figure size 432x288 with 1 Axes>"
      ]
     },
     "metadata": {
      "needs_background": "light"
     },
     "output_type": "display_data"
    }
   ],
   "source": [
    "# plot the scores\n",
    "fig = plt.figure()\n",
    "ax = fig.add_subplot(111)\n",
    "plt.plot(np.arange(len(scores)), scores)\n",
    "plt.ylabel('Score')\n",
    "plt.xlabel('Episode')\n",
    "st = ''\n",
    "for k in config.update_fields:\n",
    "    st += '{}:{} '.format(k,best[k]) \n",
    "plt.title(\"DDPG \\n{}\".format(st))\n",
    "plt.show()"
   ]
  },
  {
   "cell_type": "code",
   "execution_count": 11,
   "id": "758551ce-7652-4dee-a33c-8f275ec0437b",
   "metadata": {},
   "outputs": [
    {
     "data": {
      "image/png": "[encoded data removed]",
      "text/plain": [
       "<Figure size 432x288 with 1 Axes>"
      ]
     },
     "metadata": {
      "needs_background": "light"
     },
     "output_type": "display_data"
    }
   ],
   "source": [
    "# plot the scores\n",
    "fig = plt.figure()\n",
    "ax = fig.add_subplot(111)\n",
    "plt.plot(np.arange(len(scores)), scores)\n",
    "plt.ylabel('Score')\n",
    "plt.xlabel('Episode')\n",
    "st = ''\n",
    "for k in config.update_fields:\n",
    "    st += '{}:{} '.format(k,best[k]) \n",
    "plt.title(\"DDPG \\n{}\".format(st))\n",
    "plt.show()"
   ]
  },
  {
   "cell_type": "code",
   "execution_count": 32,
   "id": "6f4c5449-a2d1-446b-b069-7a86be9a5cc6",
   "metadata": {},
   "outputs": [
    {
     "data": {
      "image/png": "[encoded data removed]",
      "text/plain": [
       "<Figure size 432x288 with 1 Axes>"
      ]
     },
     "metadata": {
      "needs_background": "light"
     },
     "output_type": "display_data"
    }
   ],
   "source": [
    "# plot the scores\n",
    "fig = plt.figure()\n",
    "ax = fig.add_subplot(111)\n",
    "plt.plot(np.arange(len(scores)), scores)\n",
    "plt.ylabel('Score')\n",
    "plt.xlabel('Episode')\n",
    "st = ''\n",
    "for k in config.update_fields:\n",
    "    st += '{}:{} '.format(k,best[k]) \n",
    "plt.title(\"DDPG \\n{}\".format(st))\n",
    "plt.show()"
   ]
  },
  {
   "cell_type": "code",
   "execution_count": null,
   "id": "038efc2c-10b7-4324-8be5-e2f41f73789c",
   "metadata": {},
   "outputs": [
    {
     "name": "stdout",
     "output_type": "stream",
     "text": [
      "Start[0]\tfc1:300.000000\tfc2:200.000000\tfc3:100.000000\tweight_decay:0.000000\tweight_decay_act:0.000000\tactor_lr:0.000001\tcritic_lr:0.000001\ttarget_network_mix:0.010000\tdiscount:0.700000\tgradient_clip:1.000000\t\n",
      "Episode 13\tfc1:300.000000\tfc2:200.000000\tfc3:100.000000\tweight_decay:0.000000\tweight_decay_act:0.000000\tactor_lr:0.000001\tcritic_lr:0.000001\ttarget_network_mix:0.010000\tdiscount:0.700000\tgradient_clip:1.000000\t a-Average Score: 0.06"
     ]
    }
   ],
   "source": [
    "config = initConf_td3(state_size,action_size)\n",
    "Config.DEVICE = torch.device('cpu')\n",
    "config.device = Config.DEVICE\n",
    "config.eval_episodes = 200\n",
    "best,scores = tune(config,space_cfg,max_iter = 20)\n",
    "print('Best:{}'.format(best) , flush = True)    "
   ]
  },
  {
   "cell_type": "code",
   "execution_count": null,
   "id": "add25895-2f92-4919-8aea-3a340415be42",
   "metadata": {},
   "outputs": [],
   "source": [
    "# plot the scores\n",
    "fig = plt.figure()\n",
    "ax = fig.add_subplot(111)\n",
    "plt.plot(np.arange(len(scores)), scores)\n",
    "plt.ylabel('Score')\n",
    "plt.xlabel('Episode')\n",
    "plt.title(\"TD3\\twda:{:.6f}\\twdc:{:.6f}\\talr:{:.6f}\\tclr:{:.6f}\\tgamma:{:.6f}\\ttau:{:.6f}\".format(\n",
    "    config.weight_decay_act,\n",
    "    config.weight_decay,\n",
    "    config.actor_lr,\n",
    "    config.critic_lr,\n",
    "    config.discount,\n",
    "    config.target_network_mix))\n",
    "plt.show()"
   ]
  },
  {
   "cell_type": "code",
   "execution_count": 8,
   "id": "88664a48-3064-401b-b19d-cd8f76daa488",
   "metadata": {},
   "outputs": [],
   "source": [
    "env.close()"
   ]
  },
  {
   "cell_type": "code",
   "execution_count": 13,
   "id": "bb76ee61-4dbd-4292-a9a2-1409baf9694e",
   "metadata": {},
   "outputs": [],
   "source": [
    "# from unityagents import UnityEnvironment\n",
    "# # from mlagents_envs.environment import UnityEnvironment\n",
    "# import numpy as np\n",
    "# import torch\n",
    "# import matplotlib.pyplot as plt\n",
    "# %matplotlib inline\n",
    "\n",
    "f = 'Reacher_Windows_20'\n",
    "no_graphics = False\n",
    "env = UnityEnvironment(file_name='{}/Reacher'.format(f), seed=1,no_graphics=no_graphics, worker_id=1)\n",
    "\n",
    "brain_name = env.brain_names[0]\n",
    "brain = env.brains[brain_name]\n",
    "\n",
    "# reset the environment\n",
    "env_info = env.reset(train_mode=True)[brain_name]\n",
    "num_agents = len(env_info.agents)\n",
    "\n",
    "# size of each action\n",
    "action_size = brain.vector_action_space_size\n",
    "\n",
    "# examine the state space \n",
    "states = env_info.vector_observations\n",
    "state_size = states.shape[1]"
   ]
  },
  {
   "cell_type": "code",
   "execution_count": 10,
   "id": "46f3a842-66ab-41a6-bfa6-4e21ce1413d2",
   "metadata": {},
   "outputs": [],
   "source": [
    "    # config.discount = 0.99\n",
    "    # config.use_gae = True\n",
    "    # config.gae_tau = 1.0\n",
    "    # config.entropy_weight = 0.01\n",
    "    # config.rollout_length = 10\n",
    "    # config.gradient_clip = 2\n",
    "    # config.lr = 0.0007\n",
    "\n",
    "space_cfg = [        \n",
    "        {'name' : 'rollout_length',  'type' : 'int', 'lb' : 2, 'ub' : 10},    \n",
    "        {'name' : 'discount',        'type' : 'num', 'lb' : 0.9, 'ub' : 1.0},\n",
    "        {'name' : 'gradient_clip',   'type' : 'int', 'lb' : 1.0, 'ub' : 10.0},\n",
    "        {'name' : 'lr',              'type' : 'pow', 'lb' : 0.00001, 'ub' : 0.001},\n",
    "        {'name' : 'gae_tau',         'type' : 'num', 'lb' : 0.9, 'ub' : 1.0},\n",
    "        {'name' : 'entropy_weight',  'type' : 'num', 'lb' : 0.0009, 'ub' : 0.02},\n",
    "\n",
    "#         {'name' : 'bootstrap',        'type' : 'bool'},\n",
    "        ]"
   ]
  },
  {
   "cell_type": "code",
   "execution_count": null,
   "id": "de83c766-a8af-4e4b-9454-18596755a42c",
   "metadata": {},
   "outputs": [
    {
     "name": "stdout",
     "output_type": "stream",
     "text": [
      "Start[0]\trollout_length:2\tlr:1e-05\tgae_tau:0.9\tentropy_weight:0.0009\tdiscount:0.9\tgradient_clip:1\t\n",
      "Episode[0] 100\trollout_length:2\tlr:1e-05\tgae_tau:0.9\tentropy_weight:0.0009\tdiscount:0.9\tgradient_clip:1\t a-Average Score: 1.50\n",
      "Episode[0] 200\trollout_length:2\tlr:1e-05\tgae_tau:0.9\tentropy_weight:0.0009\tdiscount:0.9\tgradient_clip:1\t a-Average Score: 3.96\n",
      "Start[0]\trollout_length:6\tlr:0.0001\tgae_tau:0.95\tentropy_weight:0.01045\tdiscount:0.95\tgradient_clip:6\t\n",
      "Episode[0] 200\trollout_length:6\tlr:0.0001\tgae_tau:0.95\tentropy_weight:0.01045\tdiscount:0.95\tgradient_clip:6\t a-Average Score: 0.26\n",
      "Start[0]\trollout_length:8\tlr:3.1622776601683795e-05\tgae_tau:0.975\tentropy_weight:0.015224999999999999\tdiscount:0.925\tgradient_clip:3\t\n",
      "Episode[0] 100\trollout_length:8\tlr:3.1622776601683795e-05\tgae_tau:0.975\tentropy_weight:0.015224999999999999\tdiscount:0.925\tgradient_clip:3\t a-Average Score: 2.88\n",
      "Episode[0] 200\trollout_length:8\tlr:3.1622776601683795e-05\tgae_tau:0.975\tentropy_weight:0.015224999999999999\tdiscount:0.925\tgradient_clip:3\t a-Average Score: 0.96\n",
      "Start[0]\trollout_length:4\tlr:0.00031622776601683826\tgae_tau:0.925\tentropy_weight:0.0056749999999999995\tdiscount:0.975\tgradient_clip:8\t\n",
      "Episode[0] 100\trollout_length:4\tlr:0.00031622776601683826\tgae_tau:0.925\tentropy_weight:0.0056749999999999995\tdiscount:0.975\tgradient_clip:8\t a-Average Score: 0.60\n",
      "Episode 143\trollout_length:4\tlr:0.00031622776601683826\tgae_tau:0.925\tentropy_weight:0.0056749999999999995\tdiscount:0.975\tgradient_clip:8\t a-Average Score: 0.19"
     ]
    }
   ],
   "source": [
    "config = a2c_feature(state_size,action_size)\n",
    "Config.DEVICE = torch.device('cpu')\n",
    "config.device = Config.DEVICE\n",
    "config.eval_episodes = 200\n",
    "best,scores = tune(config,space_cfg,max_iter = 20)\n",
    "print('Best:{}'.format(best) , flush = True)  "
   ]
  },
  {
   "cell_type": "code",
   "execution_count": null,
   "id": "8fd132d6-f2b1-4406-a198-bdf6bcd2e190",
   "metadata": {},
   "outputs": [],
   "source": [
    "# plot the scores\n",
    "fig = plt.figure()\n",
    "ax = fig.add_subplot(111)\n",
    "plt.plot(np.arange(len(scores)), scores)\n",
    "plt.ylabel('Score')\n",
    "plt.xlabel('Episode')\n",
    "plt.title(\"A2C rl:{} clip:{} lr:{:.6f} gtau:{:.6f} gamma:{:.3f} ew:{:.4f}\".format(\n",
    "    config.rollout_length,\n",
    "    config.gradient_clip,\n",
    "    config.lr,\n",
    "    config.gae_tau,\n",
    "    config.discount,\n",
    "    config.entropy_weight))\n",
    "plt.show()"
   ]
  },
  {
   "cell_type": "code",
   "execution_count": null,
   "id": "c3a9c82a-c699-4d5e-9b8c-1db891f5324b",
   "metadata": {},
   "outputs": [],
   "source": [
    "# plot the scores\n",
    "fig = plt.figure()\n",
    "ax = fig.add_subplot(111)\n",
    "plt.plot(np.arange(len(scores)), scores)\n",
    "plt.ylabel('Score')\n",
    "plt.xlabel('Episode')\n",
    "plt.title(\"A2C rl:{} clip:{} lr:{:.6f} gtau:{:.6f} gamma:{:.3f} ew:{:.4f}\".format(\n",
    "    config.rollout_length,\n",
    "    config.gradient_clip,\n",
    "    config.lr,\n",
    "    config.gae_tau,\n",
    "    config.discount,\n",
    "    config.entropy_weight))\n",
    "plt.show()"
   ]
  },
  {
   "cell_type": "code",
   "execution_count": 16,
   "id": "79275eb9-0315-469d-b9cf-45ad7bc80d28",
   "metadata": {},
   "outputs": [
    {
     "data": {
      "image/png": "[encoded data removed]",
      "text/plain": [
       "<Figure size 432x288 with 1 Axes>"
      ]
     },
     "metadata": {
      "needs_background": "light"
     },
     "output_type": "display_data"
    }
   ],
   "source": [
    "# plot the scores\n",
    "fig = plt.figure()\n",
    "ax = fig.add_subplot(111)\n",
    "plt.plot(np.arange(len(scores)), scores)\n",
    "plt.ylabel('Score')\n",
    "plt.xlabel('Episode')\n",
    "plt.title(\"A2C rl:{} clip:{} lr:{:.6f} gtau:{:.6f} gamma:{:.3f} ew:{:.4f}\".format(\n",
    "    config.rollout_length,\n",
    "    config.gradient_clip,\n",
    "    config.lr,\n",
    "    config.gae_tau,\n",
    "    config.discount,\n",
    "    config.entropy_weight))\n",
    "plt.show()"
   ]
  },
  {
   "cell_type": "code",
   "execution_count": 17,
   "id": "5706f49f-4c1b-4bde-80b3-a796d26ad537",
   "metadata": {},
   "outputs": [
    {
     "name": "stdout",
     "output_type": "stream",
     "text": [
      "Best:{'rollout_length': 2, 'discount': 0.9, 'gradient_clip': 1, 'lr': 1e-05, 'gae_tau': 0.9, 'entropy_weight': 0.0009}\n"
     ]
    }
   ],
   "source": [
    "print('Best:{}'.format(best) , flush = True)  "
   ]
  },
  {
   "cell_type": "code",
   "execution_count": null,
   "id": "384b8d96-c507-4a28-984e-1152cd014a68",
   "metadata": {},
   "outputs": [],
   "source": []
  }
 ],
 "metadata": {
  "kernelspec": {
   "display_name": "gym",
   "language": "python",
   "name": "gym"
  },
  "language_info": {
   "codemirror_mode": {
    "name": "ipython",
    "version": 3
   },
   "file_extension": ".py",
   "mimetype": "text/x-python",
   "name": "python",
   "nbconvert_exporter": "python",
   "pygments_lexer": "ipython3",
   "version": "3.6.13"
  }
 },
 "nbformat": 4,
 "nbformat_minor": 5
}
