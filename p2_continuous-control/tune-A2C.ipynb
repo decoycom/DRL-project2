{
 "cells": [
  {
   "cell_type": "code",
   "execution_count": 1,
   "id": "46a96e48-6180-481c-9680-ab0d56c2051d",
   "metadata": {},
   "outputs": [],
   "source": [
    "from unityagents import UnityEnvironment\n",
    "# from mlagents_envs.environment import UnityEnvironment\n",
    "import numpy as np\n",
    "import pandas as pd\n",
    "import torch\n",
    "import matplotlib.pyplot as plt\n",
    "%matplotlib inline"
   ]
  },
  {
   "cell_type": "code",
   "execution_count": 2,
   "id": "63d6207a-be20-4f75-8dc3-2c98d0411e28",
   "metadata": {},
   "outputs": [
    {
     "name": "stderr",
     "output_type": "stream",
     "text": [
      "INFO:unityagents:\n",
      "'Academy' started successfully!\n",
      "Unity Academy name: Academy\n",
      "        Number of Brains: 1\n",
      "        Number of External Brains : 1\n",
      "        Lesson number : 0\n",
      "        Reset Parameters :\n",
      "\t\tgoal_speed -> 1.0\n",
      "\t\tgoal_size -> 5.0\n",
      "Unity brain name: ReacherBrain\n",
      "        Number of Visual Observations (per agent): 0\n",
      "        Vector Observation space type: continuous\n",
      "        Vector Observation space size (per agent): 33\n",
      "        Number of stacked Vector Observation: 1\n",
      "        Vector Action space type: continuous\n",
      "        Vector Action space size (per agent): 4\n",
      "        Vector Action descriptions: , , , \n"
     ]
    }
   ],
   "source": [
    "# f = 'Reacher_Windows'\n",
    "f = 'Reacher_Windows_20'\n",
    "# f = 'Reacher_Linux'\n",
    "# f = 'Reacher_Linux_NoVis'\n",
    "# f = 'Reacher_Linux_20'\n",
    "# f = 'Reacher_Linux_NoVis_20'\n",
    "no_graphics = False\n",
    "env = UnityEnvironment(file_name='{}/Reacher'.format(f), seed=1,no_graphics=no_graphics, worker_id=1)"
   ]
  },
  {
   "cell_type": "code",
   "execution_count": 3,
   "id": "02ae7089-a3a4-4302-87ad-6c3cad1ddbde",
   "metadata": {},
   "outputs": [
    {
     "name": "stdout",
     "output_type": "stream",
     "text": [
      "Number of agents: 20\n",
      "Size of each action: 4\n",
      "There are 20 agents. Each observes a state with length: 33\n"
     ]
    }
   ],
   "source": [
    "# get the default brain\n",
    "brain_name = env.brain_names[0]\n",
    "brain = env.brains[brain_name]\n",
    "env_info = env.reset(train_mode=True)[brain_name]\n",
    "\n",
    "# number of agents\n",
    "num_agents = len(env_info.agents)\n",
    "print('Number of agents:', num_agents)\n",
    "\n",
    "# size of each action\n",
    "action_size = brain.vector_action_space_size\n",
    "print('Size of each action:', action_size)\n",
    "\n",
    "# examine the state space \n",
    "states = env_info.vector_observations\n",
    "state_size = states.shape[1]\n",
    "print('There are {} agents. Each observes a state with length: {}'.format(states.shape[0], state_size))"
   ]
  },
  {
   "cell_type": "markdown",
   "id": "cd30f095-38f3-409b-9da9-d604d2a8d566",
   "metadata": {},
   "source": [
    "## Brains"
   ]
  },
  {
   "cell_type": "code",
   "execution_count": 4,
   "id": "084271f8-a7cd-4927-8d1f-d13d44aa0c63",
   "metadata": {
    "jupyter": {
     "source_hidden": true
    },
    "tags": []
   },
   "outputs": [],
   "source": [
    "def brain(brain_name,agent,config,env, it=0):\n",
    "    n_episodes = config.eval_episodes # 2000, \n",
    "    max_t = config.max_steps # 1500, \n",
    "    # eps_start=1.0, \n",
    "    # eps_end=0.01, \n",
    "    # eps_decay=0.995\n",
    "    window = getattr(config, 'scores_window', 100)\n",
    "    \n",
    "    scores = []                        # list containing scores from each episode\n",
    "    scores_window = deque(maxlen=window)  # last 100 scores\n",
    "    # eps = eps_start                    # initialize epsilon\n",
    "\n",
    "    pritty = getattr(config, 'pritty_fields', {})\n",
    "    st = ''\n",
    "    for k in config.update_fields:\n",
    "        v = getattr(config, k)\n",
    "        if k in pritty:\n",
    "            k = pritty[k]\n",
    "        if float(v).is_integer():\n",
    "            st += '{}:{}\\t'.format(k,v)\n",
    "        else:\n",
    "            st += '{}:{:.6f}\\t'.format(k,v)\n",
    "    print('\\rStart[{}]\\t{}'.format(it,st), flush = True)\n",
    "#     , end=\"\"\n",
    "\n",
    "    win_mean = 0\n",
    "    for i_episode in range(1, n_episodes+1):\n",
    "        env_info = env.reset(train_mode=True)[brain_name] # reset the environment\n",
    "        state = env_info.vector_observations[0]\n",
    "        \n",
    "        score = 0\n",
    "        for t in range(max_t):\n",
    "            action = agent.act(state) # eps\n",
    "            \n",
    "            env_info = env.step(action)[brain_name]        # send the action to the environment\n",
    "            next_state = env_info.vector_observations[0]   # get the next state\n",
    "            reward = env_info.rewards[0]                   # get the reward\n",
    "            done = env_info.local_done[0]                  # see if episode has finished\n",
    "    \n",
    "            agent.step(state, action, reward, next_state, done)\n",
    "        \n",
    "            state = next_state\n",
    "            score += reward\n",
    "            if done:\n",
    "                break \n",
    "        scores_window.append(score)       # save most recent score\n",
    "        scores.append(score)              # save most recent score\n",
    "        \n",
    "        win_mean = np.mean(scores_window)\n",
    "        # eps = max(eps_end, eps_decay*eps) # decrease epsilon\n",
    "        print('\\rEpisode {}\\t{} a-Average Score: {:.2f}'.format(i_episode,st,win_mean), end=\"\")\n",
    "        if i_episode % window == 0:\n",
    "            # print('\\rEpisode {}\\tAverage Score: {:.2f}'.format(i_episode, np.mean(scores_window)))\n",
    "            print('\\rEpisode[{}] {}\\t{} a-Average Score: {:.2f}'.format(it, i_episode,st,win_mean), flush = True)\n",
    "    \n",
    "        if np.mean(scores_window)>=30.0:\n",
    "            print('\\nEnvironment[{}] solved in {:d} episodes!\\t{} Average Score: {:.2f}'.format(it,i_episode-100,st, win_mean), flush = True)\n",
    "            torch.save(agent.qnetwork_local.state_dict(), 'checkpoint.pth')\n",
    "            break\n",
    "            \n",
    "    return (scores, win_mean)"
   ]
  },
  {
   "cell_type": "code",
   "execution_count": 5,
   "id": "5663c184-0f74-4766-9c57-9fd56c7c7200",
   "metadata": {
    "jupyter": {
     "source_hidden": true
    },
    "tags": []
   },
   "outputs": [],
   "source": [
    "def brain_multy(brain_name,agent,config,env, it=0):\n",
    "    number = config.num_workers\n",
    "    n_episodes = config.eval_episodes # 2000, \n",
    "    max_t = config.max_steps # 1500, \n",
    "    window = getattr(config, 'scores_window', 100)\n",
    "    \n",
    "    scores = []                        # list containing scores from each episode\n",
    "    scores_window = []  # last 100 scores\n",
    "    \n",
    "    for i in range(number):\n",
    "#         scores.append([])\n",
    "        scores_window.append(deque(maxlen=window))\n",
    "    \n",
    "    # eps = eps_start                    # initialize epsilon\n",
    "\n",
    "    pritty = getattr(config, 'pritty_fields', {})\n",
    "    st = ''\n",
    "    for k in config.update_fields:\n",
    "        v = getattr(config, k)\n",
    "        if k in pritty:\n",
    "            k = pritty[k]\n",
    "        if float(v).is_integer():\n",
    "            st += '{}:{}\\t'.format(k,v)\n",
    "        else:\n",
    "            st += '{}:{:.6f}\\t'.format(k,v)\n",
    "    print('\\rStart[{}]\\t{}'.format(it,st), flush = True)\n",
    "#     , end=\"\"\n",
    "\n",
    "#     next_states, rewards, terminals, info\n",
    "    def step_fn(actions):\n",
    "        env_info = env.step(actions)[brain_name]        # send the action to the environment\n",
    "        next_states = env_info.vector_observations   # get the next state\n",
    "        rewards = env_info.rewards                   # get the reward\n",
    "        dones = env_info.local_done                  # see if episode has finished\n",
    "        dones = np.asarray(dones, dtype=np.int32)\n",
    "        return (next_states,rewards,dones,env_info)\n",
    "        \n",
    "#     = lambda action: torch.optim.Adam(params, lr=config.actor_lr), #, weight_decay=config.weight_decay\n",
    "\n",
    "    win_mean = 0\n",
    "    for i_episode in range(1, n_episodes+1):\n",
    "        env_info = env.reset(train_mode=True)[brain_name] # reset the environment\n",
    "        states = env_info.vector_observations\n",
    "#         print(\"shape:{}\".format(states.shape))\n",
    "#         print(states)\n",
    "#         break\n",
    "        score = np.zeros(number)\n",
    "        for t in range(max_t):\n",
    "            \n",
    "            states,rewards,dones = agent.learn(states,step_fn)         \n",
    "            score = score + rewards\n",
    "            if np.any(dones):\n",
    "                break \n",
    "        for i in range(number):\n",
    "            scores_window[i].append(score[i])       # save most recent score\n",
    "        scores.append(np.mean(score))              # save most recent score\n",
    "        \n",
    "        win_mean = np.mean(scores_window)\n",
    "        # eps = max(eps_end, eps_decay*eps) # decrease epsilon\n",
    "        print('\\rEpisode {}\\t{} a-Average Score: {:.2f}'.format(i_episode,st,win_mean), end=\"\")\n",
    "        if i_episode % window == 0:\n",
    "            # print('\\rEpisode {}\\tAverage Score: {:.2f}'.format(i_episode, np.mean(scores_window)))\n",
    "            print('\\rEpisode[{}] {}\\t{} a-Average Score: {:.2f}'.format(it, i_episode,st,win_mean), flush = True)\n",
    "    \n",
    "        if win_mean>=30.0:\n",
    "            print('\\nEnvironment[{}] solved in {:d} episodes!\\t{} Average Score: {:.2f}'.format(it,i_episode-window,st, win_mean), flush = True)\n",
    "            torch.save(agent.qnetwork_local.state_dict(), 'checkpoint.pth')\n",
    "            break\n",
    "            \n",
    "    return (scores, win_mean)"
   ]
  },
  {
   "cell_type": "markdown",
   "id": "b01673b1-a3c1-4556-8e2f-b759c31a7f3a",
   "metadata": {},
   "source": [
    "## Strategies"
   ]
  },
  {
   "cell_type": "code",
   "execution_count": 6,
   "id": "1f944c37-6dff-4199-9065-479e751365f1",
   "metadata": {
    "jupyter": {
     "source_hidden": true
    },
    "tags": []
   },
   "outputs": [],
   "source": [
    "def initConf_ddpg(state_size,action_size):\n",
    "    select_device(0)\n",
    "\n",
    "    config = Config()\n",
    "\n",
    "    config.update_fields = ['fc1','fc2','fc3','weight_decay','actor_lr','critic_lr','weight_decay_act','target_network_mix','discount','gradient_clip']\n",
    "\n",
    "    # config.merge(kwargs)\n",
    "    config.device = Config.DEVICE\n",
    "    print(\"config.device:{}\".format(config.device))\n",
    "    \n",
    "    config.seed = 0    \n",
    "\n",
    "    config.fc1 = 300\n",
    "    config.fc2 = 200\n",
    "    config.fc3 = 100\n",
    "\n",
    "    config.eval_episodes = 200\n",
    "    config.max_steps = int(1e7)\n",
    "    config.batch_size = 64\n",
    "    \n",
    "    config.gradient_clip = 5\n",
    "    config.eval_interval = 4\n",
    "    config.memory_size = int(1e6)            \n",
    "    config.warm_up = config.batch_size\n",
    "\n",
    "    # num_agents\n",
    "    config.state_dim = state_size\n",
    "    config.action_dim = action_size\n",
    "    # 400, 300\n",
    "    config.network_fn = lambda cfg: DeterministicActorCriticNet(\n",
    "        cfg.state_dim, cfg.action_dim,\n",
    "        actor_body=FCBody(cfg.state_dim, (cfg.fc1, cfg.fc2, cfg.fc3), gate=F.relu),\n",
    "        critic_body=FCBody(cfg.state_dim + cfg.action_dim, (cfg.fc1, cfg.fc2, cfg.fc3), gate=F.relu),\n",
    "\n",
    "        actor_opt_fn=lambda params: torch.optim.Adam(params, lr=cfg.actor_lr, weight_decay=cfg.weight_decay_act),\n",
    "        critic_opt_fn=lambda params: torch.optim.Adam(params, lr=cfg.critic_lr, weight_decay=cfg.weight_decay))\n",
    "\n",
    "    # self.memory = ReplayBuffer(action_size, BUFFER_SIZE, BATCH_SIZE, seed)    \n",
    "    config.replay_fn = lambda: UniformReplay(memory_size=config.memory_size, batch_size=config.batch_size)\n",
    "\n",
    "    config.agent_fn = lambda conf: DDPGAg(conf)\n",
    "    config.brain_fn = lambda cfg: brain(brain_name,cfg.agent_fn(cfg),cfg,env)\n",
    "\n",
    "    config.random_process_fn = lambda: OrnsteinUhlenbeckProcess(\n",
    "        size=(config.action_dim,), std=LinearSchedule(0.2)) \n",
    "    return config"
   ]
  },
  {
   "cell_type": "code",
   "execution_count": 7,
   "id": "e1c17d1c-14dd-4763-ae2d-06ec690e8c6d",
   "metadata": {
    "jupyter": {
     "source_hidden": true
    },
    "tags": []
   },
   "outputs": [],
   "source": [
    "def initConf_td3(state_size,action_size):\n",
    "    \n",
    "    select_device(0)\n",
    "    config = Config()\n",
    "\n",
    "    config.update_fields = ['fc1','fc2','fc3','weight_decay','weight_decay_act','actor_lr','critic_lr','target_network_mix','discount','gradient_clip']\n",
    "    \n",
    "    config.fc1 = 300\n",
    "    config.fc2 = 200\n",
    "    config.fc3 = 100\n",
    "\n",
    "    config.device = Config.DEVICE\n",
    "    config.state_dim = state_size\n",
    "    config.action_dim = action_size\n",
    "\n",
    "    config.max_steps = int(1e7)\n",
    "    config.eval_episodes = 100\n",
    "    config.batch_size = 128\n",
    "\n",
    "    config.eval_interval = int(1e4)\n",
    "    config.memory_size=int(1e6)\n",
    "\n",
    "    config.gradient_clip = 5\n",
    "    config.weight_decay=0.012\n",
    "    config.actor_lr = 1e-4\n",
    "    config.critic_lr = 1e-4\n",
    "    config.target_network_mix = 5e-3\n",
    "    config.discount = 0.98\n",
    "\n",
    "    config.td3_noise = 0.2\n",
    "    config.td3_noise_clip = 0.5\n",
    "    config.td3_delay = 2\n",
    "\n",
    "    config.network_fn = lambda cfg: TD3Net(\n",
    "        cfg.action_dim,\n",
    "        actor_body_fn=lambda: FCBody(cfg.state_dim, (cfg.fc1, cfg.fc2, cfg.fc3), gate=F.relu),\n",
    "        critic_body_fn=lambda: FCBody(cfg.state_dim + cfg.action_dim, (cfg.fc1, cfg.fc2, cfg.fc3), gate=F.relu),\n",
    "        actor_opt_fn=lambda params: torch.optim.Adam(params, lr=cfg.actor_lr, weight_decay=cfg.weight_decay_act),\n",
    "        critic_opt_fn=lambda params: torch.optim.Adam(params, lr=cfg.critic_lr,weight_decay=cfg.weight_decay))\n",
    "    #     .to(config.device)\n",
    "\n",
    "    replay_kwargs = dict(\n",
    "        memory_size=config.memory_size,\n",
    "        batch_size=config.batch_size,\n",
    "    )\n",
    "\n",
    "    config.replay_fn = lambda: ReplayWrapper(UniformReplay, replay_kwargs, async=False)\n",
    "    config.random_process_fn = lambda: GaussianProcess(\n",
    "        size=(config.action_dim,), std=LinearSchedule(0.1))\n",
    "\n",
    "    config.warm_up = int(1e4)\n",
    "\n",
    "    config.agent_fn = lambda conf: TD3Ag(conf)\n",
    "    config.brain_fn = lambda cfg: brain(brain_name,cfg.agent_fn(cfg),cfg,env)\n",
    "    \n",
    "    return config"
   ]
  },
  {
   "cell_type": "code",
   "execution_count": 6,
   "id": "c2a815bb-a5e0-4ca6-bc75-8f2a1d0a5dd2",
   "metadata": {
    "jupyter": {
     "source_hidden": true
    },
    "tags": []
   },
   "outputs": [],
   "source": [
    "# from deep_rl import *\n",
    "# from agent import *\n",
    "# A2C\n",
    "def a2c_feature(state_size,action_size,brain_name,env):\n",
    "    config = Config()\n",
    "\n",
    "    config.update_fields = ['rollout_length', 'lr', 'gae_tau', 'entropy_weight', 'discount','gradient_clip','use_gae']\n",
    "    config.pritty_fields = {'rollout_length':'rout_L','gae_tau':'G_tau','entropy_weight':'e_W','use_gae':'G_use','gradient_clip':'Clip','discount':'G'}\n",
    "    config.max_steps = int(2e7)\n",
    "\n",
    "#     config.eval_interval = int(1e4)\n",
    "    config.eval_episodes = 200\n",
    "    config.batch_size = 128\n",
    "#     config.memory_size=int(1e6)\n",
    "    \n",
    "    config.device = Config.DEVICE\n",
    "    config.state_dim = state_size\n",
    "    config.action_dim = action_size\n",
    "    \n",
    "    config.discount = 0.99\n",
    "    config.use_gae = True\n",
    "    config.gae_tau = 1.0\n",
    "    config.entropy_weight = 0.01\n",
    "    config.rollout_length = 10\n",
    "    config.gradient_clip = 2\n",
    "    config.lr = 0.0007\n",
    "\n",
    "    config.num_workers = 20\n",
    "    \n",
    "    config.optimizer_fn = lambda params,cfg: torch.optim.RMSprop(params, lr=cfg.lr)\n",
    "    config.network_fn = lambda cfg: GaussianActorCriticNet(\n",
    "        cfg.state_dim, cfg.action_dim,\n",
    "        actor_body=FCBody(cfg.state_dim), critic_body=FCBody(cfg.state_dim))\n",
    "        \n",
    "#     config.optimizer_fn = lambda params: torch.optim.RMSprop(params, 0.001)\n",
    "#     config.network_fn = lambda: CategoricalActorCriticNet(\n",
    "#         config.state_dim, config.action_dim, FCBody(config.state_dim, gate=F.tanh))\n",
    "    \n",
    "    config.storage_fn = lambda:  Storage(config.rollout_length)\n",
    "    \n",
    "    config.agent_fn = lambda cfg: A2CAg(cfg)\n",
    "    config.brain_fn = lambda cfg: brain_multy(brain_name,cfg.agent_fn(cfg),cfg,env)\n",
    "    \n",
    "    return config"
   ]
  },
  {
   "cell_type": "markdown",
   "id": "9ba81134-7475-4bbb-9d3e-c82d7f86bbad",
   "metadata": {},
   "source": [
    "## Tuner"
   ]
  },
  {
   "cell_type": "code",
   "execution_count": 7,
   "id": "6a73acb9-0da8-4bfa-80bd-a57a33feff01",
   "metadata": {
    "jupyter": {
     "source_hidden": true
    },
    "tags": []
   },
   "outputs": [],
   "source": [
    "from unityagents import UnityEnvironment\n",
    "# from mlagents_envs.environment import UnityEnvironment\n",
    "import numpy as np\n",
    "import pandas as pd\n",
    "import torch\n",
    "\n",
    "from time import sleep\n",
    "\n",
    "from deep_rl import *\n",
    "from agent import *\n",
    "from hebo.design_space.design_space import DesignSpace\n",
    "from hebo.optimizers.hebo import HEBO\n",
    "from joblib import Parallel, delayed\n",
    "\n",
    "import os\n",
    "base_path = os.getcwd()\n",
    "\n",
    "\n",
    "def tune(\n",
    "    config : Config,\n",
    "    space_cfg, \n",
    "    max_iter=10, \n",
    "    hebo_cfg = None,\n",
    "    greater_is_better : bool = True,\n",
    "    verbose  = True,\n",
    "    first = [],\n",
    "    **kwargs\n",
    "    ):\n",
    "\n",
    "    if hebo_cfg is None:\n",
    "        hebo_cfg = {}\n",
    "    space = DesignSpace().parse(space_cfg)\n",
    "    opt   = HEBO(space, **hebo_cfg)\n",
    "    \n",
    "    scoresz = []\n",
    "    first_index = 0\n",
    "    for i in range(max_iter):\n",
    "        if len(first) > first_index:\n",
    "            hyp = first[first_index]\n",
    "            first_index += 1\n",
    "            details = {}\n",
    "            for n,v in hyp.items():\n",
    "                details[n] = [v]\n",
    "            rec = pd.DataFrame(details)\n",
    "        else:\n",
    "            rec     = opt.suggest()\n",
    "            hyp     = rec.iloc[0].to_dict()\n",
    "        for k in config.update_fields:\n",
    "#         for k in hyp:\n",
    "            if space.paras[k].is_numeric and space.paras[k].is_discrete:\n",
    "#                 hyp[k] = int(hyp[k])\n",
    "                setattr(config, k, int(hyp[k]))\n",
    "            else:\n",
    "                setattr(config, k, hyp[k])\n",
    "\n",
    "        scores,reward = config.brain_fn(config)\n",
    "        # brain(brain_name,a,config,env)\n",
    "        scoresz.append(scores)\n",
    "\n",
    "        sign    = -1. if greater_is_better else 1.0\n",
    "        opt.observe(rec, np.array([sign * reward]))\n",
    "        if verbose:\n",
    "            print('\\rIter %d, best metric: %g' % (i, sign * opt.y.min()), flush = True, end=\"\")\n",
    "            \n",
    "    best_id   = np.argmin(opt.y.reshape(-1))\n",
    "    best_hyp  = opt.X.iloc[best_id]\n",
    "    df_report = opt.X.copy()\n",
    "    df_report['metric'] = sign * opt.y\n",
    "    return best_hyp.to_dict(),scoresz[best_id]"
   ]
  },
  {
   "cell_type": "code",
   "execution_count": 9,
   "id": "7258dff6-9924-4a64-84c2-794d9471890b",
   "metadata": {
    "jupyter": {
     "source_hidden": true
    },
    "tags": []
   },
   "outputs": [],
   "source": [
    "def core_para(it, hyp, env = None):\n",
    "    print(\"it:{} hyp:{}\".format(it,hyp), flush = True)\n",
    "    \n",
    "    filename = os.path.join(base_path, '{}/Reacher'.format('Reacher_Windows'))\n",
    "    \n",
    "    if env is None:\n",
    "        env = UnityEnvironment(file_name=filename, seed=0,no_graphics=False, worker_id=0+it)\n",
    "    \n",
    "    brain_name = env.brain_names[0]\n",
    "    brain = env.brains[brain_name]\n",
    "    env_info = env.reset(train_mode=True)[brain_name]\n",
    "    num_agents = len(env_info.agents)\n",
    "    action_size = brain.vector_action_space_size\n",
    "    states = env_info.vector_observations\n",
    "    state_size = states.shape[1]\n",
    "\n",
    "    config = initConf_ddpg(state_size,action_size)\n",
    "    \n",
    "    for k in config.update_fields:\n",
    "        if space.paras[k].is_numeric and space.paras[k].is_discrete:\n",
    "            setattr(config, k, int(hyp[k]))\n",
    "        else:\n",
    "            setattr(config, k, hyp[k])\n",
    "\n",
    "    a = config.agent_fn(config)\n",
    "    scores,reward = brain(brain_name,a,config,env,it=it)\n",
    "    env.close()\n",
    "    return (scores,reward)\n",
    "\n",
    "def tune_para(\n",
    "    space_cfg, \n",
    "    max_iter=10, \n",
    "    hebo_cfg = None,\n",
    "    greater_is_better : bool = True,\n",
    "    verbose  = True,\n",
    "    **kwargs\n",
    "    ):\n",
    "    \n",
    "    sign = -1. if greater_is_better else 1.0\n",
    "\n",
    "    if hebo_cfg is None:\n",
    "        hebo_cfg = {}\n",
    "    space = DesignSpace().parse(space_cfg)\n",
    "    opt   = HEBO(space, rand_sample = 1, **hebo_cfg)\n",
    "    \n",
    "#     envs = []\n",
    "#     print(\"UnityEnvironment Start\".format(), flush = True)\n",
    "    \n",
    "#     f = 'Reacher_Windows'\n",
    "#     no_graphics = False\n",
    "#     for i in range(1,3):\n",
    "#         print(\"UnityEnvironment i:{}\".format(i), flush = True)\n",
    "#         done = False\n",
    "#         failed = 0\n",
    "#         while not done:\n",
    "#             try:\n",
    "#                 envs.append(UnityEnvironment(file_name='{}/Reacher'.format(f), seed=1,no_graphics=no_graphics, worker_id=0+i))\n",
    "#                 done = True\n",
    "#                 print(\"UnityEnvironment Done i:{}\".format(i), flush = True)\n",
    "#                 sleep(5)\n",
    "#             except Exception as e:            \n",
    "#                 print(\"it:{} UnityEnvironment failed:{}\".format(i,e), flush = True)\n",
    "#                 failed += 1\n",
    "#                 if failed>5:\n",
    "#                     done = True\n",
    "#             return            \n",
    "#     print(\"it:{} UnityEnvironment len envs:{}\".format(i,len(envs)), flush = True)\n",
    "    \n",
    "    scoresz = []\n",
    "    \n",
    "    try:\n",
    "    \n",
    "        for i in range(max_iter):\n",
    "            rec     = opt.suggest(n_suggestions=2)\n",
    "    #         hyp     = rec.iloc[0].to_dict()\n",
    "    #         verbose=100, pre_dispatch='1.5*n_jobs'\n",
    "            outs = Parallel(n_jobs=2,verbose=100, prefer=\"processes\")(delayed(core_para)(i,rc.to_dict()) for i,rc in enumerate(rec.iloc))\n",
    "#         envs[i],\n",
    "\n",
    "            outs\n",
    "            if verbose:\n",
    "                print('\\routs:{}'.format(outs), flush = True)\n",
    "\n",
    "            a = []\n",
    "            for s,r in outs:\n",
    "                a.append(sign * r)\n",
    "\n",
    "            opt.observe(rec, np.array(a))\n",
    "    #         opt.observe(rec, np.array([sign * reward]))\n",
    "            if verbose:\n",
    "                print('\\nIter %d, best metric: %g' % (i, sign * opt.y.min()), flush = True, end=\"\")\n",
    "    except Exception as e:                \n",
    "#         for env in envs:\n",
    "#             env.close()\n",
    "#         envs = []\n",
    "        raise e\n",
    "#     else:\n",
    "#         for env in envs:\n",
    "#             env.close()\n",
    "#         envs = []\n",
    "    \n",
    "    best_id   = np.argmin(opt.y.reshape(-1))\n",
    "    best_hyp  = opt.X.iloc[best_id]\n",
    "    df_report = opt.X.copy()\n",
    "    df_report['metric'] = sign * opt.y\n",
    "#     if report:\n",
    "#         return best_hyp.to_dict(), df_report\n",
    "    return best_hyp.to_dict(),scoresz[best_id]"
   ]
  },
  {
   "cell_type": "markdown",
   "id": "06db24dc-e95d-46b5-b141-5e6f5d346101",
   "metadata": {},
   "source": [
    "## Runners"
   ]
  },
  {
   "cell_type": "code",
   "execution_count": 15,
   "id": "40f7ab38-a2ca-41cf-a557-d8c4058b19c0",
   "metadata": {
    "jupyter": {
     "source_hidden": true
    },
    "tags": []
   },
   "outputs": [],
   "source": [
    "select_device(-1)\n",
    "space_cfg = [\n",
    "        \n",
    "        {'name' : 'fc1',             'type' : 'int', 'lb' : 300, 'ub' : 500, \"step\": 100},\n",
    "        {'name' : 'fc2',             'type' : 'int', 'lb' : 200, 'ub' : 400, \"step\": 100},\n",
    "        {'name' : 'fc3',             'type' : 'int', 'lb' : 100, 'ub' : 300, \"step\": 100},\n",
    "    \n",
    "        {'name' : 'gradient_clip',   'type' : 'int', 'lb' : 1.0, 'ub' : 10.0},\n",
    "    \n",
    "        {'name' : 'discount',        'type' : 'num', 'lb' : 0.7, 'ub' : 1.0},\n",
    "    \n",
    "        {'name' : 'actor_lr',        'type' : 'pow', 'lb' : 1e-6, 'ub' : 1e-2},\n",
    "        {'name' : 'critic_lr',       'type' : 'pow', 'lb' : 1e-6, 'ub' : 1e-2},\n",
    "        {'name' : 'weight_decay_act','type' : 'num', 'lb' : 0.0, 'ub' : 0.1},\n",
    "        {'name' : 'weight_decay',    'type' : 'num', 'lb' : 0.0, 'ub' : 0.1},\n",
    "    \n",
    "        {'name' : 'target_network_mix',       'type' : 'pow', 'lb' : 1e-4, 'ub' : 1e-2},\n",
    "\n",
    "#         {'name' : 'max_features',     'type' : 'cat', 'categories' : ['auto', 'sqrt', 'log2']},\n",
    "#         {'name' : 'bootstrap',        'type' : 'bool'},\n",
    "        ]"
   ]
  },
  {
   "cell_type": "code",
   "execution_count": null,
   "id": "c100ef0e-5c23-4cd6-b0d8-5c43d5a1e1e3",
   "metadata": {
    "jupyter": {
     "source_hidden": true
    },
    "tags": []
   },
   "outputs": [],
   "source": [
    "# best,scores = tune_para(space_cfg)\n",
    "# print('Best:{}'.format(best) , flush = True)"
   ]
  },
  {
   "cell_type": "code",
   "execution_count": 16,
   "id": "85af7f8d-d676-42ca-8cbd-60ab9ffb4116",
   "metadata": {
    "collapsed": true,
    "jupyter": {
     "outputs_hidden": true,
     "source_hidden": true
    },
    "tags": []
   },
   "outputs": [
    {
     "name": "stdout",
     "output_type": "stream",
     "text": [
      "config.device:cuda:0\n",
      "Start[0]\tfc1:300.000000\tfc2:200.000000\tfc3:100.000000\tweight_decay:0.000000\tactor_lr:0.000001\tcritic_lr:0.000001\tweight_decay_act:0.000000\ttarget_network_mix:0.010000\tdiscount:0.700000\tgradient_clip:1.000000\t\n",
      "Episode[0] 100\tfc1:300.000000\tfc2:200.000000\tfc3:100.000000\tweight_decay:0.000000\tactor_lr:0.000001\tcritic_lr:0.000001\tweight_decay_act:0.000000\ttarget_network_mix:0.010000\tdiscount:0.700000\tgradient_clip:1.000000\t a-Average Score: 0.78\n",
      "Start[0]\tfc1:400.000000\tfc2:300.000000\tfc3:200.000000\tweight_decay:0.050000\tactor_lr:0.000100\tcritic_lr:0.000100\tweight_decay_act:0.050000\ttarget_network_mix:0.001000\tdiscount:0.850000\tgradient_clip:3.000000\t\n",
      "Episode[0] 100\tfc1:400.000000\tfc2:300.000000\tfc3:200.000000\tweight_decay:0.050000\tactor_lr:0.000100\tcritic_lr:0.000100\tweight_decay_act:0.050000\ttarget_network_mix:0.001000\tdiscount:0.850000\tgradient_clip:3.000000\t a-Average Score: 0.39\n",
      "Start[0]\tfc1:450.000000\tfc2:250.000000\tfc3:150.000000\tweight_decay:0.075000\tactor_lr:0.001000\tcritic_lr:0.000010\tweight_decay_act:0.075000\ttarget_network_mix:0.000316\tdiscount:0.925000\tgradient_clip:2.000000\t\n",
      "Episode[0] 100\tfc1:450.000000\tfc2:250.000000\tfc3:150.000000\tweight_decay:0.075000\tactor_lr:0.001000\tcritic_lr:0.000010\tweight_decay_act:0.075000\ttarget_network_mix:0.000316\tdiscount:0.925000\tgradient_clip:2.000000\t a-Average Score: 0.22\n",
      "Start[0]\tfc1:350.000000\tfc2:350.000000\tfc3:250.000000\tweight_decay:0.025000\tactor_lr:0.000010\tcritic_lr:0.001000\tweight_decay_act:0.025000\ttarget_network_mix:0.003162\tdiscount:0.775000\tgradient_clip:4.000000\t\n",
      "Episode[0] 100\tfc1:350.000000\tfc2:350.000000\tfc3:250.000000\tweight_decay:0.025000\tactor_lr:0.000010\tcritic_lr:0.001000\tweight_decay_act:0.025000\ttarget_network_mix:0.003162\tdiscount:0.775000\tgradient_clip:4.000000\t a-Average Score: 0.25\n",
      "Start[0]\tfc1:375.000000\tfc2:275.000000\tfc3:225.000000\tweight_decay:0.087500\tactor_lr:0.000003\tcritic_lr:0.000032\tweight_decay_act:0.087500\ttarget_network_mix:0.000562\tdiscount:0.812500\tgradient_clip:4.000000\t\n",
      "Episode[0] 100\tfc1:375.000000\tfc2:275.000000\tfc3:225.000000\tweight_decay:0.087500\tactor_lr:0.000003\tcritic_lr:0.000032\tweight_decay_act:0.087500\ttarget_network_mix:0.000562\tdiscount:0.812500\tgradient_clip:4.000000\t a-Average Score: 0.26\n",
      "Start[0]\tfc1:475.000000\tfc2:375.000000\tfc3:125.000000\tweight_decay:0.037500\tactor_lr:0.000316\tcritic_lr:0.003162\tweight_decay_act:0.037500\ttarget_network_mix:0.005623\tdiscount:0.962500\tgradient_clip:2.000000\t\n",
      "Episode[0] 100\tfc1:475.000000\tfc2:375.000000\tfc3:125.000000\tweight_decay:0.037500\tactor_lr:0.000316\tcritic_lr:0.003162\tweight_decay_act:0.037500\ttarget_network_mix:0.005623\tdiscount:0.962500\tgradient_clip:2.000000\t a-Average Score: 0.31\n",
      "Start[0]\tfc1:425.000000\tfc2:225.000000\tfc3:275.000000\tweight_decay:0.012500\tactor_lr:0.003162\tcritic_lr:0.000003\tweight_decay_act:0.012500\ttarget_network_mix:0.001778\tdiscount:0.887500\tgradient_clip:4.000000\t\n",
      "Episode[0] 100\tfc1:425.000000\tfc2:225.000000\tfc3:275.000000\tweight_decay:0.012500\tactor_lr:0.003162\tcritic_lr:0.000003\tweight_decay_act:0.012500\ttarget_network_mix:0.001778\tdiscount:0.887500\tgradient_clip:4.000000\t a-Average Score: 0.56\n",
      "Start[0]\tfc1:325.000000\tfc2:325.000000\tfc3:175.000000\tweight_decay:0.062500\tactor_lr:0.000032\tcritic_lr:0.000316\tweight_decay_act:0.062500\ttarget_network_mix:0.000178\tdiscount:0.737500\tgradient_clip:2.000000\t\n",
      "Episode[0] 100\tfc1:325.000000\tfc2:325.000000\tfc3:175.000000\tweight_decay:0.062500\tactor_lr:0.000032\tcritic_lr:0.000316\tweight_decay_act:0.062500\ttarget_network_mix:0.000178\tdiscount:0.737500\tgradient_clip:2.000000\t a-Average Score: 0.33\n",
      "Start[0]\tfc1:338.000000\tfc2:262.000000\tfc3:288.000000\tweight_decay:0.093750\tactor_lr:0.000018\tcritic_lr:0.000056\tweight_decay_act:0.093750\ttarget_network_mix:0.002371\tdiscount:0.868750\tgradient_clip:3.000000\t\n",
      "Episode[0] 100\tfc1:338.000000\tfc2:262.000000\tfc3:288.000000\tweight_decay:0.093750\tactor_lr:0.000018\tcritic_lr:0.000056\tweight_decay_act:0.093750\ttarget_network_mix:0.002371\tdiscount:0.868750\tgradient_clip:3.000000\t a-Average Score: 0.39\n",
      "Start[0]\tfc1:438.000000\tfc2:362.000000\tfc3:188.000000\tweight_decay:0.043750\tactor_lr:0.001778\tcritic_lr:0.005623\tweight_decay_act:0.043750\ttarget_network_mix:0.000237\tdiscount:0.718750\tgradient_clip:5.000000\t\n",
      "Episode[0] 100\tfc1:438.000000\tfc2:362.000000\tfc3:188.000000\tweight_decay:0.043750\tactor_lr:0.001778\tcritic_lr:0.005623\tweight_decay_act:0.043750\ttarget_network_mix:0.000237\tdiscount:0.718750\tgradient_clip:5.000000\t a-Average Score: 0.40\n",
      "Iter 9, best metric: 0.7784\n",
      "Best:{'fc1': 300, 'fc2': 200, 'fc3': 100, 'gradient_clip': 1, 'discount': 0.7, 'actor_lr': 1.000000000000002e-06, 'critic_lr': 1.000000000000002e-06, 'weight_decay_act': 0.0, 'weight_decay': 0.0, 'target_network_mix': 0.01000000000000001}\n"
     ]
    }
   ],
   "source": [
    "config = initConf_ddpg(state_size,action_size)\n",
    "Config.DEVICE = torch.device('cpu')\n",
    "config.device = Config.DEVICE\n",
    "config.eval_episodes = 250\n",
    "config.scores_window = 50\n",
    "best,scores = tune(config, space_cfg, max_iter = 20)\n",
    "print('\\nBest:{}'.format(best) , flush = True)\n",
    "# scores = brain(brain_name,agent,config,env)"
   ]
  },
  {
   "cell_type": "code",
   "execution_count": 17,
   "id": "f38c9ce2-a588-4954-8567-84841808a6e8",
   "metadata": {
    "jupyter": {
     "source_hidden": true
    },
    "tags": []
   },
   "outputs": [
    {
     "data": {
      "image/png": "[encoded data removed]",
      "text/plain": [
       "<Figure size 432x288 with 1 Axes>"
      ]
     },
     "metadata": {
      "needs_background": "light"
     },
     "output_type": "display_data"
    }
   ],
   "source": [
    "# plot the scores\n",
    "fig = plt.figure()\n",
    "ax = fig.add_subplot(111)\n",
    "plt.plot(np.arange(len(scores)), scores)\n",
    "plt.ylabel('Score')\n",
    "plt.xlabel('Episode')\n",
    "plt.title(\"DDPG\\twda:{:.6f}\\twdc:{:.6f}\\talr:{:.6f}\\tclr:{:.6f}\\tgamma:{:.6f}\\ttau:{:.6f}\".format(\n",
    "    config.weight_decay_act, # \\twda:{:.6f}\n",
    "    config.weight_decay,\n",
    "    config.actor_lr,\n",
    "    config.critic_lr,\n",
    "    config.discount,\n",
    "    config.target_network_mix))\n",
    "plt.show()"
   ]
  },
  {
   "cell_type": "code",
   "execution_count": 16,
   "id": "038efc2c-10b7-4324-8be5-e2f41f73789c",
   "metadata": {
    "jupyter": {
     "source_hidden": true
    },
    "tags": []
   },
   "outputs": [
    {
     "name": "stdout",
     "output_type": "stream",
     "text": [
      "Start[0]\tfc1:300.000000\tfc2:200.000000\tfc3:100.000000\tweight_decay:0.000000\tweight_decay_act:0.000000\tactor_lr:0.000001\tcritic_lr:0.000001\ttarget_network_mix:0.010000\tdiscount:0.700000\tgradient_clip:1.000000\t\n",
      "Episode[0] 100\tfc1:300.000000\tfc2:200.000000\tfc3:100.000000\tweight_decay:0.000000\tweight_decay_act:0.000000\tactor_lr:0.000001\tcritic_lr:0.000001\ttarget_network_mix:0.010000\tdiscount:0.700000\tgradient_clip:1.000000\t a-Average Score: 0.26\n",
      "Iter 0, best metric: 0.2621Best:{'fc1': 300, 'fc2': 200, 'fc3': 100, 'gradient_clip': 1, 'discount': 0.7, 'actor_lr': 1.000000000000002e-06, 'critic_lr': 1.000000000000002e-06, 'weight_decay_act': 0.0, 'weight_decay': 0.0, 'target_network_mix': 0.01000000000000001}\n"
     ]
    }
   ],
   "source": [
    "config = initConf_td3(state_size,action_size)\n",
    "Config.DEVICE = torch.device('cpu')\n",
    "config.device = Config.DEVICE\n",
    "config.eval_episodes = 100\n",
    "best,scores = tune(config,space_cfg,max_iter = 1)\n",
    "print('Best:{}'.format(best) , flush = True)    "
   ]
  },
  {
   "cell_type": "code",
   "execution_count": 17,
   "id": "add25895-2f92-4919-8aea-3a340415be42",
   "metadata": {
    "jupyter": {
     "source_hidden": true
    },
    "tags": []
   },
   "outputs": [
    {
     "data": {
      "image/png": "[encoded data removed]",
      "text/plain": [
       "<Figure size 432x288 with 1 Axes>"
      ]
     },
     "metadata": {
      "needs_background": "light"
     },
     "output_type": "display_data"
    }
   ],
   "source": [
    "# plot the scores\n",
    "fig = plt.figure()\n",
    "ax = fig.add_subplot(111)\n",
    "plt.plot(np.arange(len(scores)), scores)\n",
    "plt.ylabel('Score')\n",
    "plt.xlabel('Episode')\n",
    "plt.title(\"TD3\\twda:{:.6f}\\twdc:{:.6f}\\talr:{:.6f}\\tclr:{:.6f}\\tgamma:{:.6f}\\ttau:{:.6f}\".format(\n",
    "    config.weight_decay_act,\n",
    "    config.weight_decay,\n",
    "    config.actor_lr,\n",
    "    config.critic_lr,\n",
    "    config.discount,\n",
    "    config.target_network_mix))\n",
    "plt.show()"
   ]
  },
  {
   "cell_type": "code",
   "execution_count": 9,
   "id": "88664a48-3064-401b-b19d-cd8f76daa488",
   "metadata": {},
   "outputs": [],
   "source": [
    "env.close()"
   ]
  },
  {
   "cell_type": "code",
   "execution_count": 13,
   "id": "bb76ee61-4dbd-4292-a9a2-1409baf9694e",
   "metadata": {
    "jupyter": {
     "source_hidden": true
    },
    "tags": []
   },
   "outputs": [],
   "source": [
    "# from unityagents import UnityEnvironment\n",
    "# # from mlagents_envs.environment import UnityEnvironment\n",
    "# import numpy as np\n",
    "# import torch\n",
    "# import matplotlib.pyplot as plt\n",
    "# %matplotlib inline\n",
    "\n",
    "f = 'Reacher_Windows_20'\n",
    "no_graphics = False\n",
    "env = UnityEnvironment(file_name='{}/Reacher'.format(f), seed=1,no_graphics=no_graphics, worker_id=1)\n",
    "\n",
    "brain_name = env.brain_names[0]\n",
    "brain = env.brains[brain_name]\n",
    "\n",
    "# reset the environment\n",
    "env_info = env.reset(train_mode=True)[brain_name]\n",
    "num_agents = len(env_info.agents)\n",
    "\n",
    "# size of each action\n",
    "action_size = brain.vector_action_space_size\n",
    "\n",
    "# examine the state space \n",
    "states = env_info.vector_observations\n",
    "state_size = states.shape[1]"
   ]
  },
  {
   "cell_type": "code",
   "execution_count": 6,
   "id": "46f3a842-66ab-41a6-bfa6-4e21ce1413d2",
   "metadata": {},
   "outputs": [],
   "source": [
    "import tools as ts\n",
    "from deep_rl import *\n",
    "first = [\n",
    "    {'rollout_length': 8,  'discount': 0.975120, 'gradient_clip': 7, 'lr': 0.000010, 'gae_tau': 0.996467, 'entropy_weight': 0.001504, 'use_gae': False},\n",
    "    {'rollout_length': 10, 'discount': 0.9847894774762507, 'gradient_clip': 2, 'lr': 1.0071160478803324e-05, 'gae_tau': 0.9899540738644809, 'entropy_weight': 0.0011836478393662721, 'use_gae': True},\n",
    "]\n",
    "space_cfg = [\n",
    "        {'name' : 'rollout_length',  'type' : 'int', 'lb' : 2, 'ub' : 20},    \n",
    "        {'name' : 'discount',        'type' : 'num', 'lb' : 0.8, 'ub' : 1.0, 'step':0.01},\n",
    "        {'name' : 'gradient_clip',   'type' : 'int', 'lb' : 1.0, 'ub' : 13.0},\n",
    "        {'name' : 'lr',              'type' : 'pow', 'lb' : 0.000001, 'ub' : 0.001},\n",
    "        {'name' : 'gae_tau',         'type' : 'num', 'lb' : 0.8, 'ub' : 1.0},\n",
    "        {'name' : 'entropy_weight',  'type' : 'num', 'lb' : 0.0009, 'ub' : 0.02},\n",
    "        {'name' : 'use_gae',         'type' : 'bool'},\n",
    "    ]"
   ]
  },
  {
   "cell_type": "code",
   "execution_count": 5,
   "id": "b9953d43-bd75-4a49-9a08-17eaa357d08b",
   "metadata": {},
   "outputs": [],
   "source": [
    "config = ts.a2c_feature(state_size,action_size,brain_name,env)\n",
    "agent = config.agent_fn(config)\n",
    "torch.save(agent.network.state_dict(), 'checkpoint_test.pth')"
   ]
  },
  {
   "cell_type": "code",
   "execution_count": 7,
   "id": "eb901487-bd4a-4d44-a310-e8b6502da7a9",
   "metadata": {},
   "outputs": [
    {
     "name": "stdout",
     "output_type": "stream",
     "text": [
      "Start[0]\trout_L:15\tlr:0.000010\tG_tau:0.989954\te_W:0.001184\tG:0.984789\tClip:2\tG_use:1\t\n",
      "Episode[0] 40\trout_L:15\tlr:0.000010\tG_tau:0.989954\te_W:0.001184\tG:0.984789\tClip:2\tG_use:1\t a-Average Score: 1.79\n",
      "Episode[0] 80\trout_L:15\tlr:0.000010\tG_tau:0.989954\te_W:0.001184\tG:0.984789\tClip:2\tG_use:1\t a-Average Score: 5.84\n",
      "Episode[0] 120\trout_L:15\tlr:0.000010\tG_tau:0.989954\te_W:0.001184\tG:0.984789\tClip:2\tG_use:1\t a-Average Score: 9.04\n",
      "Episode[0] 160\trout_L:15\tlr:0.000010\tG_tau:0.989954\te_W:0.001184\tG:0.984789\tClip:2\tG_use:1\t a-Average Score: 11.14\n",
      "Episode[0] 200\trout_L:15\tlr:0.000010\tG_tau:0.989954\te_W:0.001184\tG:0.984789\tClip:2\tG_use:1\t a-Average Score: 13.10\n",
      "Episode[0] 240\trout_L:15\tlr:0.000010\tG_tau:0.989954\te_W:0.001184\tG:0.984789\tClip:2\tG_use:1\t a-Average Score: 15.08\n",
      "Episode[0] 280\trout_L:15\tlr:0.000010\tG_tau:0.989954\te_W:0.001184\tG:0.984789\tClip:2\tG_use:1\t a-Average Score: 17.49\n",
      "Episode[0] 320\trout_L:15\tlr:0.000010\tG_tau:0.989954\te_W:0.001184\tG:0.984789\tClip:2\tG_use:1\t a-Average Score: 20.64\n",
      "Episode[0] 360\trout_L:15\tlr:0.000010\tG_tau:0.989954\te_W:0.001184\tG:0.984789\tClip:2\tG_use:1\t a-Average Score: 24.64\n",
      "Episode[0] 400\trout_L:15\tlr:0.000010\tG_tau:0.989954\te_W:0.001184\tG:0.984789\tClip:2\tG_use:1\t a-Average Score: 28.18\n",
      "Start[1]\trout_L:10\tlr:0.000010\tG_tau:0.989954\te_W:0.001184\tG:0.984789\tClip:2\tG_use:1\t\n",
      "Episode[1] 40\trout_L:10\tlr:0.000010\tG_tau:0.989954\te_W:0.001184\tG:0.984789\tClip:2\tG_use:1\t a-Average Score: 1.70\n",
      "Episode[1] 80\trout_L:10\tlr:0.000010\tG_tau:0.989954\te_W:0.001184\tG:0.984789\tClip:2\tG_use:1\t a-Average Score: 5.59\n",
      "Episode[1] 120\trout_L:10\tlr:0.000010\tG_tau:0.989954\te_W:0.001184\tG:0.984789\tClip:2\tG_use:1\t a-Average Score: 8.38\n",
      "Episode[1] 160\trout_L:10\tlr:0.000010\tG_tau:0.989954\te_W:0.001184\tG:0.984789\tClip:2\tG_use:1\t a-Average Score: 10.38\n",
      "Episode[1] 200\trout_L:10\tlr:0.000010\tG_tau:0.989954\te_W:0.001184\tG:0.984789\tClip:2\tG_use:1\t a-Average Score: 12.45\n",
      "Episode[1] 240\trout_L:10\tlr:0.000010\tG_tau:0.989954\te_W:0.001184\tG:0.984789\tClip:2\tG_use:1\t a-Average Score: 15.12\n",
      "Episode[1] 280\trout_L:10\tlr:0.000010\tG_tau:0.989954\te_W:0.001184\tG:0.984789\tClip:2\tG_use:1\t a-Average Score: 19.81\n",
      "Episode[1] 320\trout_L:10\tlr:0.000010\tG_tau:0.989954\te_W:0.001184\tG:0.984789\tClip:2\tG_use:1\t a-Average Score: 29.28\n",
      "Episode[1] 331\trout_L:10\tlr:0.000010\tG_tau:0.989954\te_W:0.001184\tG:0.984789\tClip:2\tG_use:1\t a-Average Score: 32.06\n",
      "Environment[1] solved in 291 episodes!\trout_L:10\tlr:0.000010\tG_tau:0.989954\te_W:0.001184\tG:0.984789\tClip:2\tG_use:1\t Average Score: 32.06\n",
      "Start[2]\trout_L:2\tlr:0.000001\tG_tau:0.800000\te_W:0.000900\tG:0.800000\tClip:1\tG_use:0\t\n",
      "Episode[2] 40\trout_L:2\tlr:0.000001\tG_tau:0.800000\te_W:0.000900\tG:0.800000\tClip:1\tG_use:0\t a-Average Score: 0.17\n",
      "Episode[2] 80\trout_L:2\tlr:0.000001\tG_tau:0.800000\te_W:0.000900\tG:0.800000\tClip:1\tG_use:0\t a-Average Score: 0.30\n",
      "Episode[2] 120\trout_L:2\tlr:0.000001\tG_tau:0.800000\te_W:0.000900\tG:0.800000\tClip:1\tG_use:0\t a-Average Score: 0.69\n",
      "Episode[2] 160\trout_L:2\tlr:0.000001\tG_tau:0.800000\te_W:0.000900\tG:0.800000\tClip:1\tG_use:0\t a-Average Score: 0.84\n",
      "Episode[2] 200\trout_L:2\tlr:0.000001\tG_tau:0.800000\te_W:0.000900\tG:0.800000\tClip:1\tG_use:0\t a-Average Score: 0.87\n",
      "Episode[2] 240\trout_L:2\tlr:0.000001\tG_tau:0.800000\te_W:0.000900\tG:0.800000\tClip:1\tG_use:0\t a-Average Score: 0.90\n",
      "Episode[2] 280\trout_L:2\tlr:0.000001\tG_tau:0.800000\te_W:0.000900\tG:0.800000\tClip:1\tG_use:0\t a-Average Score: 0.92\n",
      "Finished![2] 320\trout_L:2\tlr:0.000001\tG_tau:0.800000\te_W:0.000900\tG:0.800000\tClip:1\tG_use:0\t a-Average Score: 0.87\n",
      "Start[3]\trout_L:11\tlr:0.000032\tG_tau:0.900000\te_W:0.010450\tG:0.900000\tClip:7\tG_use:0\t\n",
      "Episode[3] 40\trout_L:11\tlr:0.000032\tG_tau:0.900000\te_W:0.010450\tG:0.900000\tClip:7\tG_use:0\t a-Average Score: 0.03\n",
      "Episode[3] 80\trout_L:11\tlr:0.000032\tG_tau:0.900000\te_W:0.010450\tG:0.900000\tClip:7\tG_use:0\t a-Average Score: 0.07\n",
      "Episode[3] 120\trout_L:11\tlr:0.000032\tG_tau:0.900000\te_W:0.010450\tG:0.900000\tClip:7\tG_use:0\t a-Average Score: 0.10\n",
      "Episode[3] 160\trout_L:11\tlr:0.000032\tG_tau:0.900000\te_W:0.010450\tG:0.900000\tClip:7\tG_use:0\t a-Average Score: 0.12\n",
      "Episode[3] 200\trout_L:11\tlr:0.000032\tG_tau:0.900000\te_W:0.010450\tG:0.900000\tClip:7\tG_use:0\t a-Average Score: 0.14\n",
      "Episode[3] 240\trout_L:11\tlr:0.000032\tG_tau:0.900000\te_W:0.010450\tG:0.900000\tClip:7\tG_use:0\t a-Average Score: 0.17\n",
      "Episode[3] 280\trout_L:11\tlr:0.000032\tG_tau:0.900000\te_W:0.010450\tG:0.900000\tClip:7\tG_use:0\t a-Average Score: 0.19\n",
      "Episode[3] 320\trout_L:11\tlr:0.000032\tG_tau:0.900000\te_W:0.010450\tG:0.900000\tClip:7\tG_use:0\t a-Average Score: 0.24\n",
      "Episode[3] 360\trout_L:11\tlr:0.000032\tG_tau:0.900000\te_W:0.010450\tG:0.900000\tClip:7\tG_use:0\t a-Average Score: 0.26\n",
      "Episode[3] 400\trout_L:11\tlr:0.000032\tG_tau:0.900000\te_W:0.010450\tG:0.900000\tClip:7\tG_use:0\t a-Average Score: 0.26\n",
      "Start[4]\trout_L:16\tlr:0.000006\tG_tau:0.950000\te_W:0.015225\tG:0.850000\tClip:4\tG_use:0\t\n",
      "Episode[4] 40\trout_L:16\tlr:0.000006\tG_tau:0.950000\te_W:0.015225\tG:0.850000\tClip:4\tG_use:0\t a-Average Score: 0.64\n",
      "Episode[4] 80\trout_L:16\tlr:0.000006\tG_tau:0.950000\te_W:0.015225\tG:0.850000\tClip:4\tG_use:0\t a-Average Score: 1.09\n",
      "Episode[4] 120\trout_L:16\tlr:0.000006\tG_tau:0.950000\te_W:0.015225\tG:0.850000\tClip:4\tG_use:0\t a-Average Score: 1.72\n",
      "Episode[4] 160\trout_L:16\tlr:0.000006\tG_tau:0.950000\te_W:0.015225\tG:0.850000\tClip:4\tG_use:0\t a-Average Score: 2.32\n",
      "Episode[4] 200\trout_L:16\tlr:0.000006\tG_tau:0.950000\te_W:0.015225\tG:0.850000\tClip:4\tG_use:0\t a-Average Score: 2.69\n",
      "Episode[4] 240\trout_L:16\tlr:0.000006\tG_tau:0.950000\te_W:0.015225\tG:0.850000\tClip:4\tG_use:0\t a-Average Score: 2.91\n",
      "Episode[4] 280\trout_L:16\tlr:0.000006\tG_tau:0.950000\te_W:0.015225\tG:0.850000\tClip:4\tG_use:0\t a-Average Score: 2.99\n",
      "Episode[4] 320\trout_L:16\tlr:0.000006\tG_tau:0.950000\te_W:0.015225\tG:0.850000\tClip:4\tG_use:0\t a-Average Score: 3.02\n",
      "Finished![4] 360\trout_L:16\tlr:0.000006\tG_tau:0.950000\te_W:0.015225\tG:0.850000\tClip:4\tG_use:0\t a-Average Score: 2.82\n",
      "Start[5]\trout_L:6\tlr:0.000178\tG_tau:0.850000\te_W:0.005675\tG:0.950000\tClip:10\tG_use:1\t\n",
      "Episode[5] 40\trout_L:6\tlr:0.000178\tG_tau:0.850000\te_W:0.005675\tG:0.950000\tClip:10\tG_use:1\t a-Average Score: 1.95\n",
      "Finished![5] 80\trout_L:6\tlr:0.000178\tG_tau:0.850000\te_W:0.005675\tG:0.950000\tClip:10\tG_use:1\t a-Average Score: 0.34\n",
      "Start[6]\trout_L:9\tlr:0.000422\tG_tau:0.875000\te_W:0.003287\tG:0.875000\tClip:8\tG_use:0\t\n",
      "Episode[6] 40\trout_L:9\tlr:0.000422\tG_tau:0.875000\te_W:0.003287\tG:0.875000\tClip:8\tG_use:0\t a-Average Score: 0.67\n",
      "Finished![6] 80\trout_L:9\tlr:0.000422\tG_tau:0.875000\te_W:0.003287\tG:0.875000\tClip:8\tG_use:0\t a-Average Score: 0.18\n",
      "Start[7]\trout_L:18\tlr:0.000013\tG_tau:0.975000\te_W:0.012837\tG:0.975000\tClip:2\tG_use:1\t\n",
      "Episode[7] 40\trout_L:18\tlr:0.000013\tG_tau:0.975000\te_W:0.012837\tG:0.975000\tClip:2\tG_use:1\t a-Average Score: 2.56\n",
      "Episode[7] 80\trout_L:18\tlr:0.000013\tG_tau:0.975000\te_W:0.012837\tG:0.975000\tClip:2\tG_use:1\t a-Average Score: 5.47\n",
      "Finished![7] 120\trout_L:18\tlr:0.000013\tG_tau:0.975000\te_W:0.012837\tG:0.975000\tClip:2\tG_use:1\t a-Average Score: 5.12\n",
      "Start[8]\trout_L:8\tlr:0.000011\tG_tau:0.996467\te_W:0.001504\tG:0.975120\tClip:7\tG_use:0\t\n",
      "Episode[8] 40\trout_L:8\tlr:0.000011\tG_tau:0.996467\te_W:0.001504\tG:0.975120\tClip:7\tG_use:0\t a-Average Score: 1.52\n",
      "Episode[8] 80\trout_L:8\tlr:0.000011\tG_tau:0.996467\te_W:0.001504\tG:0.975120\tClip:7\tG_use:0\t a-Average Score: 3.95\n",
      "Episode[8] 120\trout_L:8\tlr:0.000011\tG_tau:0.996467\te_W:0.001504\tG:0.975120\tClip:7\tG_use:0\t a-Average Score: 5.63\n",
      "Episode[8] 160\trout_L:8\tlr:0.000011\tG_tau:0.996467\te_W:0.001504\tG:0.975120\tClip:7\tG_use:0\t a-Average Score: 7.02\n",
      "Episode[8] 200\trout_L:8\tlr:0.000011\tG_tau:0.996467\te_W:0.001504\tG:0.975120\tClip:7\tG_use:0\t a-Average Score: 10.03\n",
      "Episode[8] 240\trout_L:8\tlr:0.000011\tG_tau:0.996467\te_W:0.001504\tG:0.975120\tClip:7\tG_use:0\t a-Average Score: 15.67\n",
      "Episode[8] 280\trout_L:8\tlr:0.000011\tG_tau:0.996467\te_W:0.001504\tG:0.975120\tClip:7\tG_use:0\t a-Average Score: 30.52\n",
      "Episode[8] 285\trout_L:8\tlr:0.000011\tG_tau:0.996467\te_W:0.001504\tG:0.975120\tClip:7\tG_use:0\t a-Average Score: 32.15\n",
      "Environment[8] solved in 245 episodes!\trout_L:8\tlr:0.000011\tG_tau:0.996467\te_W:0.001504\tG:0.975120\tClip:7\tG_use:0\t Average Score: 32.15\n",
      "Start[9]\trout_L:5\tlr:0.000152\tG_tau:0.999960\te_W:0.019950\tG:0.859508\tClip:10\tG_use:0\t\n",
      "Episode[9] 40\trout_L:5\tlr:0.000152\tG_tau:0.999960\te_W:0.019950\tG:0.859508\tClip:10\tG_use:0\t a-Average Score: 1.12\n",
      "Finished![9] 80\trout_L:5\tlr:0.000152\tG_tau:0.999960\te_W:0.019950\tG:0.859508\tClip:10\tG_use:0\t a-Average Score: 0.28\n",
      "Start[10]\trout_L:13\tlr:0.000975\tG_tau:0.802157\te_W:0.019995\tG:0.960199\tClip:5\tG_use:1\t\n",
      "Episode[10] 40\trout_L:13\tlr:0.000975\tG_tau:0.802157\te_W:0.019995\tG:0.960199\tClip:5\tG_use:1\t a-Average Score: 0.19\n",
      "Finished![10] 80\trout_L:13\tlr:0.000975\tG_tau:0.802157\te_W:0.019995\tG:0.960199\tClip:5\tG_use:1\t a-Average Score: 0.06\n",
      "Start[11]\trout_L:20\tlr:0.000001\tG_tau:0.996611\te_W:0.001542\tG:0.991396\tClip:7\tG_use:0\t\n",
      "Episode[11] 40\trout_L:20\tlr:0.000001\tG_tau:0.996611\te_W:0.001542\tG:0.991396\tClip:7\tG_use:0\t a-Average Score: 0.31\n",
      "Episode[11] 80\trout_L:20\tlr:0.000001\tG_tau:0.996611\te_W:0.001542\tG:0.991396\tClip:7\tG_use:0\t a-Average Score: 0.84\n",
      "Episode[11] 120\trout_L:20\tlr:0.000001\tG_tau:0.996611\te_W:0.001542\tG:0.991396\tClip:7\tG_use:0\t a-Average Score: 1.20\n",
      "Episode[11] 160\trout_L:20\tlr:0.000001\tG_tau:0.996611\te_W:0.001542\tG:0.991396\tClip:7\tG_use:0\t a-Average Score: 1.68\n",
      "Episode[11] 200\trout_L:20\tlr:0.000001\tG_tau:0.996611\te_W:0.001542\tG:0.991396\tClip:7\tG_use:0\t a-Average Score: 2.05\n",
      "Episode[11] 240\trout_L:20\tlr:0.000001\tG_tau:0.996611\te_W:0.001542\tG:0.991396\tClip:7\tG_use:0\t a-Average Score: 2.57\n",
      "Episode[11] 280\trout_L:20\tlr:0.000001\tG_tau:0.996611\te_W:0.001542\tG:0.991396\tClip:7\tG_use:0\t a-Average Score: 3.23\n",
      "Episode[11] 320\trout_L:20\tlr:0.000001\tG_tau:0.996611\te_W:0.001542\tG:0.991396\tClip:7\tG_use:0\t a-Average Score: 3.81\n",
      "Episode[11] 360\trout_L:20\tlr:0.000001\tG_tau:0.996611\te_W:0.001542\tG:0.991396\tClip:7\tG_use:0\t a-Average Score: 4.29\n",
      "Episode[11] 400\trout_L:20\tlr:0.000001\tG_tau:0.996611\te_W:0.001542\tG:0.991396\tClip:7\tG_use:0\t a-Average Score: 4.87\n",
      "Start[12]\trout_L:13\tlr:0.000008\tG_tau:0.996517\te_W:0.000954\tG:0.990189\tClip:3\tG_use:0\t\n",
      "Episode[12] 40\trout_L:13\tlr:0.000008\tG_tau:0.996517\te_W:0.000954\tG:0.990189\tClip:3\tG_use:0\t a-Average Score: 0.01\n",
      "Episode[12] 80\trout_L:13\tlr:0.000008\tG_tau:0.996517\te_W:0.000954\tG:0.990189\tClip:3\tG_use:0\t a-Average Score: 0.03\n",
      "Episode[12] 120\trout_L:13\tlr:0.000008\tG_tau:0.996517\te_W:0.000954\tG:0.990189\tClip:3\tG_use:0\t a-Average Score: 0.07\n",
      "Finished![12] 160\trout_L:13\tlr:0.000008\tG_tau:0.996517\te_W:0.000954\tG:0.990189\tClip:3\tG_use:0\t a-Average Score: 0.06\n",
      "Start[13]\trout_L:13\tlr:0.000222\tG_tau:0.916828\te_W:0.017115\tG:0.976275\tClip:8\tG_use:0\t\n",
      "Episode[13] 40\trout_L:13\tlr:0.000222\tG_tau:0.916828\te_W:0.017115\tG:0.976275\tClip:8\tG_use:0\t a-Average Score: 0.20\n",
      "Episode[13] 80\trout_L:13\tlr:0.000222\tG_tau:0.916828\te_W:0.017115\tG:0.976275\tClip:8\tG_use:0\t a-Average Score: 0.41\n",
      "Finished![13] 120\trout_L:13\tlr:0.000222\tG_tau:0.916828\te_W:0.017115\tG:0.976275\tClip:8\tG_use:0\t a-Average Score: 0.35\n",
      "Start[14]\trout_L:7\tlr:0.000074\tG_tau:0.997131\te_W:0.019427\tG:0.978991\tClip:2\tG_use:1\t\n",
      "Episode[14] 40\trout_L:7\tlr:0.000074\tG_tau:0.997131\te_W:0.019427\tG:0.978991\tClip:2\tG_use:1\t a-Average Score: 0.16\n",
      "Episode[14] 80\trout_L:7\tlr:0.000074\tG_tau:0.997131\te_W:0.019427\tG:0.978991\tClip:2\tG_use:1\t a-Average Score: 0.42\n",
      "Episode[14] 120\trout_L:7\tlr:0.000074\tG_tau:0.997131\te_W:0.019427\tG:0.978991\tClip:2\tG_use:1\t a-Average Score: 0.56\n",
      "Finished![14] 160\trout_L:7\tlr:0.000074\tG_tau:0.997131\te_W:0.019427\tG:0.978991\tClip:2\tG_use:1\t a-Average Score: 0.54\n",
      "Start[15]\trout_L:9\tlr:0.000001\tG_tau:0.986014\te_W:0.001439\tG:0.835753\tClip:2\tG_use:1\t\n",
      "Episode[15] 40\trout_L:9\tlr:0.000001\tG_tau:0.986014\te_W:0.001439\tG:0.835753\tClip:2\tG_use:1\t a-Average Score: 0.17\n",
      "Episode[15] 80\trout_L:9\tlr:0.000001\tG_tau:0.986014\te_W:0.001439\tG:0.835753\tClip:2\tG_use:1\t a-Average Score: 0.30\n",
      "Episode[15] 120\trout_L:9\tlr:0.000001\tG_tau:0.986014\te_W:0.001439\tG:0.835753\tClip:2\tG_use:1\t a-Average Score: 0.72\n",
      "Episode[15] 160\trout_L:9\tlr:0.000001\tG_tau:0.986014\te_W:0.001439\tG:0.835753\tClip:2\tG_use:1\t a-Average Score: 0.81\n",
      "Episode[15] 200\trout_L:9\tlr:0.000001\tG_tau:0.986014\te_W:0.001439\tG:0.835753\tClip:2\tG_use:1\t a-Average Score: 0.82\n",
      "Episode[15] 240\trout_L:9\tlr:0.000001\tG_tau:0.986014\te_W:0.001439\tG:0.835753\tClip:2\tG_use:1\t a-Average Score: 0.83\n",
      "Episode[15] 280\trout_L:9\tlr:0.000001\tG_tau:0.986014\te_W:0.001439\tG:0.835753\tClip:2\tG_use:1\t a-Average Score: 0.84\n",
      "Episode[15] 320\trout_L:9\tlr:0.000001\tG_tau:0.986014\te_W:0.001439\tG:0.835753\tClip:2\tG_use:1\t a-Average Score: 0.94\n",
      "Episode[15] 360\trout_L:9\tlr:0.000001\tG_tau:0.986014\te_W:0.001439\tG:0.835753\tClip:2\tG_use:1\t a-Average Score: 1.00\n",
      "Episode[15] 400\trout_L:9\tlr:0.000001\tG_tau:0.986014\te_W:0.001439\tG:0.835753\tClip:2\tG_use:1\t a-Average Score: 1.07\n",
      "Iter 15, best metric: 32.1473Best:{'rollout_length': 8, 'discount': 0.9751201238174458, 'gradient_clip': 7, 'lr': 1.0802107431577493e-05, 'gae_tau': 0.9964673379102222, 'entropy_weight': 0.0015039861493695169, 'use_gae': False}\n"
     ]
    }
   ],
   "source": [
    "config = ts.a2c_feature(state_size,action_size,brain_name,env)\n",
    "\n",
    "Config.DEVICE = torch.device('cpu')\n",
    "config.device = Config.DEVICE\n",
    "config.eval_episodes = 400\n",
    "config.scores_window = 40\n",
    "best,scores = ts.tune(config,space_cfg,max_iter = 16,first=first)\n",
    "print('Best:{}'.format(best) , flush = True)"
   ]
  },
  {
   "cell_type": "code",
   "execution_count": 8,
   "id": "e21f1745-3d17-46d6-9ac3-200241be12b7",
   "metadata": {},
   "outputs": [
    {
     "data": {
      "image/png": "[encoded data removed]",
      "text/plain": [
       "<Figure size 432x288 with 1 Axes>"
      ]
     },
     "metadata": {
      "needs_background": "light"
     },
     "output_type": "display_data"
    }
   ],
   "source": [
    "# plot the scores\n",
    "fig = plt.figure()\n",
    "ax = fig.add_subplot(111)\n",
    "plt.plot(np.arange(len(scores)), scores)\n",
    "plt.ylabel('Score')\n",
    "plt.xlabel('Episode')\n",
    "st = ''\n",
    "for k in config.update_fields:\n",
    "    st += '{}:{} '.format(k,best[k]) \n",
    "plt.title(\"A2C \\n{}\".format(st))\n",
    "plt.show()"
   ]
  },
  {
   "cell_type": "code",
   "execution_count": 10,
   "id": "0f37ad04-e50d-4fcd-9648-40aeccf66c04",
   "metadata": {},
   "outputs": [
    {
     "data": {
      "image/png": "[encoded data removed]",
      "text/plain": [
       "<Figure size 432x288 with 1 Axes>"
      ]
     },
     "metadata": {
      "needs_background": "light"
     },
     "output_type": "display_data"
    }
   ],
   "source": [
    "# plot the scores\n",
    "fig = plt.figure()\n",
    "ax = fig.add_subplot(111)\n",
    "plt.plot(np.arange(len(scores)), scores)\n",
    "plt.ylabel('Score')\n",
    "plt.xlabel('Episode')\n",
    "st = ''\n",
    "for k in config.update_fields:\n",
    "    st += '{}:{} '.format(k,best[k]) \n",
    "plt.title(\"A2C \\n{}\".format(st))\n",
    "plt.show()"
   ]
  },
  {
   "cell_type": "code",
   "execution_count": null,
   "id": "c3a9c82a-c699-4d5e-9b8c-1db891f5324b",
   "metadata": {},
   "outputs": [],
   "source": [
    "# plot the scores\n",
    "fig = plt.figure()\n",
    "ax = fig.add_subplot(111)\n",
    "plt.plot(np.arange(len(scores)), scores)\n",
    "plt.ylabel('Score')\n",
    "plt.xlabel('Episode')\n",
    "st = ''\n",
    "for k in config.update_fields:\n",
    "    st += '{}:{} '.format(k,best[k]) \n",
    "plt.title(\"A2C \\n{}\".format(st))\n",
    "plt.show()"
   ]
  },
  {
   "cell_type": "code",
   "execution_count": 16,
   "id": "79275eb9-0315-469d-b9cf-45ad7bc80d28",
   "metadata": {},
   "outputs": [
    {
     "data": {
      "image/png": "[encoded data removed]",
      "text/plain": [
       "<Figure size 432x288 with 1 Axes>"
      ]
     },
     "metadata": {
      "needs_background": "light"
     },
     "output_type": "display_data"
    }
   ],
   "source": [
    "# plot the scores\n",
    "fig = plt.figure()\n",
    "ax = fig.add_subplot(111)\n",
    "plt.plot(np.arange(len(scores)), scores)\n",
    "plt.ylabel('Score')\n",
    "plt.xlabel('Episode')\n",
    "plt.title(\"A2C rl:{} clip:{} lr:{:.6f} gtau:{:.6f} gamma:{:.3f} ew:{:.4f}\".format(\n",
    "    config.rollout_length,\n",
    "    config.gradient_clip,\n",
    "    config.lr,\n",
    "    config.gae_tau,\n",
    "    config.discount,\n",
    "    config.entropy_weight))\n",
    "plt.show()"
   ]
  },
  {
   "cell_type": "code",
   "execution_count": 17,
   "id": "5706f49f-4c1b-4bde-80b3-a796d26ad537",
   "metadata": {},
   "outputs": [
    {
     "name": "stdout",
     "output_type": "stream",
     "text": [
      "Best:{'rollout_length': 2, 'discount': 0.9, 'gradient_clip': 1, 'lr': 1e-05, 'gae_tau': 0.9, 'entropy_weight': 0.0009}\n"
     ]
    }
   ],
   "source": [
    "print('Best:{}'.format(best) , flush = True)  "
   ]
  },
  {
   "cell_type": "code",
   "execution_count": null,
   "id": "384b8d96-c507-4a28-984e-1152cd014a68",
   "metadata": {},
   "outputs": [],
   "source": []
  }
 ],
 "metadata": {
  "kernelspec": {
   "display_name": "gym",
   "language": "python",
   "name": "gym"
  },
  "language_info": {
   "codemirror_mode": {
    "name": "ipython",
    "version": 3
   },
   "file_extension": ".py",
   "mimetype": "text/x-python",
   "name": "python",
   "nbconvert_exporter": "python",
   "pygments_lexer": "ipython3",
   "version": "3.6.13"
  }
 },
 "nbformat": 4,
 "nbformat_minor": 5
}
